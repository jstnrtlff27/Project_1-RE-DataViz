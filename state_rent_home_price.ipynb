{
 "cells": [
  {
   "cell_type": "code",
   "execution_count": 2,
   "metadata": {},
   "outputs": [
    {
     "name": "stdout",
     "output_type": "stream",
     "text": [
      "data supplied by 'https://www.realtor.com/research/data/'\n"
     ]
    }
   ],
   "source": [
    "import pandas as pd\n",
    "import matplotlib.pyplot as plt\n",
    "import numpy as np\n",
    "\n",
    "\n",
    "\n",
    "import chart_studio.plotly as py\n",
    "import plotly.tools as tls\n",
    "\n",
    "\n",
    "\n",
    "output_path=\"median price by state.csv\"\n",
    "\n",
    "state_data=pd.read_csv(output_path)\n",
    "state_data\n",
    "\n",
    "print(\"data supplied by 'https://www.realtor.com/research/data/'\")"
   ]
  },
  {
   "cell_type": "code",
   "execution_count": 3,
   "metadata": {},
   "outputs": [
    {
     "data": {
      "text/html": [
       "<div>\n",
       "<style scoped>\n",
       "    .dataframe tbody tr th:only-of-type {\n",
       "        vertical-align: middle;\n",
       "    }\n",
       "\n",
       "    .dataframe tbody tr th {\n",
       "        vertical-align: top;\n",
       "    }\n",
       "\n",
       "    .dataframe thead th {\n",
       "        text-align: right;\n",
       "    }\n",
       "</style>\n",
       "<table border=\"1\" class=\"dataframe\">\n",
       "  <thead>\n",
       "    <tr style=\"text-align: right;\">\n",
       "      <th></th>\n",
       "      <th>month_date_yyyymm</th>\n",
       "      <th>state</th>\n",
       "      <th>state_id</th>\n",
       "      <th>median_listing_price</th>\n",
       "      <th>median_listing_price_per_square_foot</th>\n",
       "      <th>average_listing_price</th>\n",
       "    </tr>\n",
       "  </thead>\n",
       "  <tbody>\n",
       "    <tr>\n",
       "      <th>0</th>\n",
       "      <td>202007</td>\n",
       "      <td>alabama</td>\n",
       "      <td>al</td>\n",
       "      <td>258050.0</td>\n",
       "      <td>115.556928</td>\n",
       "      <td>339592</td>\n",
       "    </tr>\n",
       "    <tr>\n",
       "      <th>1</th>\n",
       "      <td>202007</td>\n",
       "      <td>iowa</td>\n",
       "      <td>ia</td>\n",
       "      <td>224000.0</td>\n",
       "      <td>128.726805</td>\n",
       "      <td>260855</td>\n",
       "    </tr>\n",
       "    <tr>\n",
       "      <th>2</th>\n",
       "      <td>202007</td>\n",
       "      <td>massachusetts</td>\n",
       "      <td>ma</td>\n",
       "      <td>619950.0</td>\n",
       "      <td>308.302418</td>\n",
       "      <td>993678</td>\n",
       "    </tr>\n",
       "    <tr>\n",
       "      <th>3</th>\n",
       "      <td>202007</td>\n",
       "      <td>colorado</td>\n",
       "      <td>co</td>\n",
       "      <td>525000.0</td>\n",
       "      <td>225.028662</td>\n",
       "      <td>945532</td>\n",
       "    </tr>\n",
       "    <tr>\n",
       "      <th>4</th>\n",
       "      <td>202007</td>\n",
       "      <td>ohio</td>\n",
       "      <td>oh</td>\n",
       "      <td>222500.0</td>\n",
       "      <td>103.972656</td>\n",
       "      <td>307861</td>\n",
       "    </tr>\n",
       "    <tr>\n",
       "      <th>5</th>\n",
       "      <td>202007</td>\n",
       "      <td>arizona</td>\n",
       "      <td>az</td>\n",
       "      <td>389549.5</td>\n",
       "      <td>195.030219</td>\n",
       "      <td>629597</td>\n",
       "    </tr>\n",
       "    <tr>\n",
       "      <th>6</th>\n",
       "      <td>202007</td>\n",
       "      <td>alaska</td>\n",
       "      <td>ak</td>\n",
       "      <td>312500.0</td>\n",
       "      <td>176.269864</td>\n",
       "      <td>360721</td>\n",
       "    </tr>\n",
       "    <tr>\n",
       "      <th>7</th>\n",
       "      <td>202007</td>\n",
       "      <td>new mexico</td>\n",
       "      <td>nm</td>\n",
       "      <td>282050.0</td>\n",
       "      <td>138.467210</td>\n",
       "      <td>421474</td>\n",
       "    </tr>\n",
       "    <tr>\n",
       "      <th>8</th>\n",
       "      <td>202007</td>\n",
       "      <td>vermont</td>\n",
       "      <td>vt</td>\n",
       "      <td>321500.0</td>\n",
       "      <td>157.913680</td>\n",
       "      <td>466923</td>\n",
       "    </tr>\n",
       "    <tr>\n",
       "      <th>9</th>\n",
       "      <td>202007</td>\n",
       "      <td>kansas</td>\n",
       "      <td>ks</td>\n",
       "      <td>220000.0</td>\n",
       "      <td>101.239423</td>\n",
       "      <td>321772</td>\n",
       "    </tr>\n",
       "    <tr>\n",
       "      <th>10</th>\n",
       "      <td>202007</td>\n",
       "      <td>louisiana</td>\n",
       "      <td>la</td>\n",
       "      <td>249750.0</td>\n",
       "      <td>124.472259</td>\n",
       "      <td>331428</td>\n",
       "    </tr>\n",
       "    <tr>\n",
       "      <th>11</th>\n",
       "      <td>202007</td>\n",
       "      <td>new jersey</td>\n",
       "      <td>nj</td>\n",
       "      <td>443000.0</td>\n",
       "      <td>15.500000</td>\n",
       "      <td>642349</td>\n",
       "    </tr>\n",
       "    <tr>\n",
       "      <th>12</th>\n",
       "      <td>202007</td>\n",
       "      <td>idaho</td>\n",
       "      <td>id</td>\n",
       "      <td>408550.0</td>\n",
       "      <td>194.711367</td>\n",
       "      <td>674310</td>\n",
       "    </tr>\n",
       "    <tr>\n",
       "      <th>13</th>\n",
       "      <td>202007</td>\n",
       "      <td>minnesota</td>\n",
       "      <td>mn</td>\n",
       "      <td>309950.0</td>\n",
       "      <td>154.313585</td>\n",
       "      <td>404412</td>\n",
       "    </tr>\n",
       "    <tr>\n",
       "      <th>14</th>\n",
       "      <td>202007</td>\n",
       "      <td>wyoming</td>\n",
       "      <td>wy</td>\n",
       "      <td>290050.0</td>\n",
       "      <td>129.894054</td>\n",
       "      <td>679244</td>\n",
       "    </tr>\n",
       "    <tr>\n",
       "      <th>15</th>\n",
       "      <td>202007</td>\n",
       "      <td>delaware</td>\n",
       "      <td>de</td>\n",
       "      <td>342950.0</td>\n",
       "      <td>157.114943</td>\n",
       "      <td>460749</td>\n",
       "    </tr>\n",
       "    <tr>\n",
       "      <th>16</th>\n",
       "      <td>202007</td>\n",
       "      <td>arkansas</td>\n",
       "      <td>ar</td>\n",
       "      <td>209500.0</td>\n",
       "      <td>102.890402</td>\n",
       "      <td>286706</td>\n",
       "    </tr>\n",
       "    <tr>\n",
       "      <th>17</th>\n",
       "      <td>202007</td>\n",
       "      <td>kentucky</td>\n",
       "      <td>ky</td>\n",
       "      <td>239500.0</td>\n",
       "      <td>112.056807</td>\n",
       "      <td>320751</td>\n",
       "    </tr>\n",
       "    <tr>\n",
       "      <th>18</th>\n",
       "      <td>202007</td>\n",
       "      <td>north dakota</td>\n",
       "      <td>nd</td>\n",
       "      <td>239891.5</td>\n",
       "      <td>113.267185</td>\n",
       "      <td>280289</td>\n",
       "    </tr>\n",
       "    <tr>\n",
       "      <th>19</th>\n",
       "      <td>202007</td>\n",
       "      <td>washington</td>\n",
       "      <td>wa</td>\n",
       "      <td>500005.0</td>\n",
       "      <td>246.656933</td>\n",
       "      <td>701181</td>\n",
       "    </tr>\n",
       "    <tr>\n",
       "      <th>20</th>\n",
       "      <td>202007</td>\n",
       "      <td>rhode island</td>\n",
       "      <td>ri</td>\n",
       "      <td>424500.0</td>\n",
       "      <td>242.822384</td>\n",
       "      <td>745903</td>\n",
       "    </tr>\n",
       "    <tr>\n",
       "      <th>21</th>\n",
       "      <td>202007</td>\n",
       "      <td>tennessee</td>\n",
       "      <td>tn</td>\n",
       "      <td>325050.0</td>\n",
       "      <td>143.671875</td>\n",
       "      <td>464176</td>\n",
       "    </tr>\n",
       "    <tr>\n",
       "      <th>22</th>\n",
       "      <td>202007</td>\n",
       "      <td>florida</td>\n",
       "      <td>fl</td>\n",
       "      <td>344532.0</td>\n",
       "      <td>191.031250</td>\n",
       "      <td>700930</td>\n",
       "    </tr>\n",
       "    <tr>\n",
       "      <th>23</th>\n",
       "      <td>202007</td>\n",
       "      <td>michigan</td>\n",
       "      <td>mi</td>\n",
       "      <td>255050.0</td>\n",
       "      <td>140.626836</td>\n",
       "      <td>359709</td>\n",
       "    </tr>\n",
       "    <tr>\n",
       "      <th>24</th>\n",
       "      <td>202007</td>\n",
       "      <td>new hampshire</td>\n",
       "      <td>nh</td>\n",
       "      <td>392500.0</td>\n",
       "      <td>191.430995</td>\n",
       "      <td>518164</td>\n",
       "    </tr>\n",
       "    <tr>\n",
       "      <th>25</th>\n",
       "      <td>202007</td>\n",
       "      <td>california</td>\n",
       "      <td>ca</td>\n",
       "      <td>698550.0</td>\n",
       "      <td>382.687500</td>\n",
       "      <td>1417575</td>\n",
       "    </tr>\n",
       "    <tr>\n",
       "      <th>26</th>\n",
       "      <td>202007</td>\n",
       "      <td>missouri</td>\n",
       "      <td>mo</td>\n",
       "      <td>229950.0</td>\n",
       "      <td>114.269817</td>\n",
       "      <td>315018</td>\n",
       "    </tr>\n",
       "    <tr>\n",
       "      <th>27</th>\n",
       "      <td>202007</td>\n",
       "      <td>wisconsin</td>\n",
       "      <td>wi</td>\n",
       "      <td>275050.0</td>\n",
       "      <td>137.651599</td>\n",
       "      <td>359572</td>\n",
       "    </tr>\n",
       "    <tr>\n",
       "      <th>28</th>\n",
       "      <td>202007</td>\n",
       "      <td>district of columbia</td>\n",
       "      <td>dc</td>\n",
       "      <td>697212.5</td>\n",
       "      <td>560.311918</td>\n",
       "      <td>1037274</td>\n",
       "    </tr>\n",
       "    <tr>\n",
       "      <th>29</th>\n",
       "      <td>202007</td>\n",
       "      <td>texas</td>\n",
       "      <td>tx</td>\n",
       "      <td>310698.0</td>\n",
       "      <td>140.058594</td>\n",
       "      <td>452955</td>\n",
       "    </tr>\n",
       "    <tr>\n",
       "      <th>30</th>\n",
       "      <td>202007</td>\n",
       "      <td>oklahoma</td>\n",
       "      <td>ok</td>\n",
       "      <td>239175.0</td>\n",
       "      <td>113.655914</td>\n",
       "      <td>319118</td>\n",
       "    </tr>\n",
       "    <tr>\n",
       "      <th>31</th>\n",
       "      <td>202007</td>\n",
       "      <td>south carolina</td>\n",
       "      <td>sc</td>\n",
       "      <td>289950.0</td>\n",
       "      <td>130.825063</td>\n",
       "      <td>446009</td>\n",
       "    </tr>\n",
       "    <tr>\n",
       "      <th>32</th>\n",
       "      <td>202007</td>\n",
       "      <td>pennsylvania</td>\n",
       "      <td>pa</td>\n",
       "      <td>259728.0</td>\n",
       "      <td>125.920673</td>\n",
       "      <td>374843</td>\n",
       "    </tr>\n",
       "    <tr>\n",
       "      <th>33</th>\n",
       "      <td>202007</td>\n",
       "      <td>indiana</td>\n",
       "      <td>in</td>\n",
       "      <td>238144.5</td>\n",
       "      <td>107.580239</td>\n",
       "      <td>306618</td>\n",
       "    </tr>\n",
       "    <tr>\n",
       "      <th>34</th>\n",
       "      <td>202007</td>\n",
       "      <td>georgia</td>\n",
       "      <td>ga</td>\n",
       "      <td>326500.0</td>\n",
       "      <td>121.725610</td>\n",
       "      <td>447644</td>\n",
       "    </tr>\n",
       "    <tr>\n",
       "      <th>35</th>\n",
       "      <td>202007</td>\n",
       "      <td>utah</td>\n",
       "      <td>ut</td>\n",
       "      <td>482049.5</td>\n",
       "      <td>190.926854</td>\n",
       "      <td>879658</td>\n",
       "    </tr>\n",
       "    <tr>\n",
       "      <th>36</th>\n",
       "      <td>202007</td>\n",
       "      <td>nebraska</td>\n",
       "      <td>ne</td>\n",
       "      <td>259200.0</td>\n",
       "      <td>120.780016</td>\n",
       "      <td>317024</td>\n",
       "    </tr>\n",
       "    <tr>\n",
       "      <th>37</th>\n",
       "      <td>202007</td>\n",
       "      <td>oregon</td>\n",
       "      <td>or</td>\n",
       "      <td>454025.0</td>\n",
       "      <td>231.854677</td>\n",
       "      <td>608091</td>\n",
       "    </tr>\n",
       "    <tr>\n",
       "      <th>38</th>\n",
       "      <td>202007</td>\n",
       "      <td>hawaii</td>\n",
       "      <td>hi</td>\n",
       "      <td>632550.0</td>\n",
       "      <td>522.486588</td>\n",
       "      <td>1146380</td>\n",
       "    </tr>\n",
       "    <tr>\n",
       "      <th>39</th>\n",
       "      <td>202007</td>\n",
       "      <td>west virginia</td>\n",
       "      <td>wv</td>\n",
       "      <td>174545.0</td>\n",
       "      <td>83.639662</td>\n",
       "      <td>247702</td>\n",
       "    </tr>\n",
       "    <tr>\n",
       "      <th>40</th>\n",
       "      <td>202007</td>\n",
       "      <td>north carolina</td>\n",
       "      <td>nc</td>\n",
       "      <td>340050.0</td>\n",
       "      <td>141.951160</td>\n",
       "      <td>470284</td>\n",
       "    </tr>\n",
       "    <tr>\n",
       "      <th>41</th>\n",
       "      <td>202007</td>\n",
       "      <td>montana</td>\n",
       "      <td>mt</td>\n",
       "      <td>399050.0</td>\n",
       "      <td>189.367584</td>\n",
       "      <td>738745</td>\n",
       "    </tr>\n",
       "    <tr>\n",
       "      <th>42</th>\n",
       "      <td>202007</td>\n",
       "      <td>south dakota</td>\n",
       "      <td>sd</td>\n",
       "      <td>258950.0</td>\n",
       "      <td>131.699052</td>\n",
       "      <td>331849</td>\n",
       "    </tr>\n",
       "    <tr>\n",
       "      <th>43</th>\n",
       "      <td>202007</td>\n",
       "      <td>new york</td>\n",
       "      <td>ny</td>\n",
       "      <td>527050.0</td>\n",
       "      <td>202.562500</td>\n",
       "      <td>1084950</td>\n",
       "    </tr>\n",
       "    <tr>\n",
       "      <th>44</th>\n",
       "      <td>202007</td>\n",
       "      <td>mississippi</td>\n",
       "      <td>ms</td>\n",
       "      <td>220050.0</td>\n",
       "      <td>101.445982</td>\n",
       "      <td>282686</td>\n",
       "    </tr>\n",
       "    <tr>\n",
       "      <th>45</th>\n",
       "      <td>202007</td>\n",
       "      <td>maine</td>\n",
       "      <td>me</td>\n",
       "      <td>299050.0</td>\n",
       "      <td>171.487536</td>\n",
       "      <td>448182</td>\n",
       "    </tr>\n",
       "    <tr>\n",
       "      <th>46</th>\n",
       "      <td>202007</td>\n",
       "      <td>nevada</td>\n",
       "      <td>nv</td>\n",
       "      <td>355047.0</td>\n",
       "      <td>188.350133</td>\n",
       "      <td>605189</td>\n",
       "    </tr>\n",
       "    <tr>\n",
       "      <th>47</th>\n",
       "      <td>202007</td>\n",
       "      <td>connecticut</td>\n",
       "      <td>ct</td>\n",
       "      <td>397300.0</td>\n",
       "      <td>182.885365</td>\n",
       "      <td>803912</td>\n",
       "    </tr>\n",
       "    <tr>\n",
       "      <th>48</th>\n",
       "      <td>202007</td>\n",
       "      <td>maryland</td>\n",
       "      <td>md</td>\n",
       "      <td>367050.0</td>\n",
       "      <td>176.062414</td>\n",
       "      <td>508159</td>\n",
       "    </tr>\n",
       "    <tr>\n",
       "      <th>49</th>\n",
       "      <td>202007</td>\n",
       "      <td>illinois</td>\n",
       "      <td>il</td>\n",
       "      <td>259950.0</td>\n",
       "      <td>124.062500</td>\n",
       "      <td>380499</td>\n",
       "    </tr>\n",
       "    <tr>\n",
       "      <th>50</th>\n",
       "      <td>202007</td>\n",
       "      <td>virginia</td>\n",
       "      <td>va</td>\n",
       "      <td>359950.0</td>\n",
       "      <td>160.429688</td>\n",
       "      <td>511686</td>\n",
       "    </tr>\n",
       "  </tbody>\n",
       "</table>\n",
       "</div>"
      ],
      "text/plain": [
       "    month_date_yyyymm                 state state_id  median_listing_price  \\\n",
       "0              202007               alabama       al              258050.0   \n",
       "1              202007                  iowa       ia              224000.0   \n",
       "2              202007         massachusetts       ma              619950.0   \n",
       "3              202007              colorado       co              525000.0   \n",
       "4              202007                  ohio       oh              222500.0   \n",
       "5              202007               arizona       az              389549.5   \n",
       "6              202007                alaska       ak              312500.0   \n",
       "7              202007            new mexico       nm              282050.0   \n",
       "8              202007               vermont       vt              321500.0   \n",
       "9              202007                kansas       ks              220000.0   \n",
       "10             202007             louisiana       la              249750.0   \n",
       "11             202007            new jersey       nj              443000.0   \n",
       "12             202007                 idaho       id              408550.0   \n",
       "13             202007             minnesota       mn              309950.0   \n",
       "14             202007               wyoming       wy              290050.0   \n",
       "15             202007              delaware       de              342950.0   \n",
       "16             202007              arkansas       ar              209500.0   \n",
       "17             202007              kentucky       ky              239500.0   \n",
       "18             202007          north dakota       nd              239891.5   \n",
       "19             202007            washington       wa              500005.0   \n",
       "20             202007          rhode island       ri              424500.0   \n",
       "21             202007             tennessee       tn              325050.0   \n",
       "22             202007               florida       fl              344532.0   \n",
       "23             202007              michigan       mi              255050.0   \n",
       "24             202007         new hampshire       nh              392500.0   \n",
       "25             202007            california       ca              698550.0   \n",
       "26             202007              missouri       mo              229950.0   \n",
       "27             202007             wisconsin       wi              275050.0   \n",
       "28             202007  district of columbia       dc              697212.5   \n",
       "29             202007                 texas       tx              310698.0   \n",
       "30             202007              oklahoma       ok              239175.0   \n",
       "31             202007        south carolina       sc              289950.0   \n",
       "32             202007          pennsylvania       pa              259728.0   \n",
       "33             202007               indiana       in              238144.5   \n",
       "34             202007               georgia       ga              326500.0   \n",
       "35             202007                  utah       ut              482049.5   \n",
       "36             202007              nebraska       ne              259200.0   \n",
       "37             202007                oregon       or              454025.0   \n",
       "38             202007                hawaii       hi              632550.0   \n",
       "39             202007         west virginia       wv              174545.0   \n",
       "40             202007        north carolina       nc              340050.0   \n",
       "41             202007               montana       mt              399050.0   \n",
       "42             202007          south dakota       sd              258950.0   \n",
       "43             202007              new york       ny              527050.0   \n",
       "44             202007           mississippi       ms              220050.0   \n",
       "45             202007                 maine       me              299050.0   \n",
       "46             202007                nevada       nv              355047.0   \n",
       "47             202007           connecticut       ct              397300.0   \n",
       "48             202007              maryland       md              367050.0   \n",
       "49             202007              illinois       il              259950.0   \n",
       "50             202007              virginia       va              359950.0   \n",
       "\n",
       "    median_listing_price_per_square_foot  average_listing_price  \n",
       "0                             115.556928                 339592  \n",
       "1                             128.726805                 260855  \n",
       "2                             308.302418                 993678  \n",
       "3                             225.028662                 945532  \n",
       "4                             103.972656                 307861  \n",
       "5                             195.030219                 629597  \n",
       "6                             176.269864                 360721  \n",
       "7                             138.467210                 421474  \n",
       "8                             157.913680                 466923  \n",
       "9                             101.239423                 321772  \n",
       "10                            124.472259                 331428  \n",
       "11                             15.500000                 642349  \n",
       "12                            194.711367                 674310  \n",
       "13                            154.313585                 404412  \n",
       "14                            129.894054                 679244  \n",
       "15                            157.114943                 460749  \n",
       "16                            102.890402                 286706  \n",
       "17                            112.056807                 320751  \n",
       "18                            113.267185                 280289  \n",
       "19                            246.656933                 701181  \n",
       "20                            242.822384                 745903  \n",
       "21                            143.671875                 464176  \n",
       "22                            191.031250                 700930  \n",
       "23                            140.626836                 359709  \n",
       "24                            191.430995                 518164  \n",
       "25                            382.687500                1417575  \n",
       "26                            114.269817                 315018  \n",
       "27                            137.651599                 359572  \n",
       "28                            560.311918                1037274  \n",
       "29                            140.058594                 452955  \n",
       "30                            113.655914                 319118  \n",
       "31                            130.825063                 446009  \n",
       "32                            125.920673                 374843  \n",
       "33                            107.580239                 306618  \n",
       "34                            121.725610                 447644  \n",
       "35                            190.926854                 879658  \n",
       "36                            120.780016                 317024  \n",
       "37                            231.854677                 608091  \n",
       "38                            522.486588                1146380  \n",
       "39                             83.639662                 247702  \n",
       "40                            141.951160                 470284  \n",
       "41                            189.367584                 738745  \n",
       "42                            131.699052                 331849  \n",
       "43                            202.562500                1084950  \n",
       "44                            101.445982                 282686  \n",
       "45                            171.487536                 448182  \n",
       "46                            188.350133                 605189  \n",
       "47                            182.885365                 803912  \n",
       "48                            176.062414                 508159  \n",
       "49                            124.062500                 380499  \n",
       "50                            160.429688                 511686  "
      ]
     },
     "execution_count": 3,
     "metadata": {},
     "output_type": "execute_result"
    }
   ],
   "source": [
    "state_data"
   ]
  },
  {
   "cell_type": "code",
   "execution_count": 4,
   "metadata": {},
   "outputs": [
    {
     "data": {
      "text/plain": [
       "<matplotlib.axes._subplots.AxesSubplot at 0x1e4bc4bae08>"
      ]
     },
     "execution_count": 4,
     "metadata": {},
     "output_type": "execute_result"
    },
    {
     "data": {
      "image/png": "[encoded data removed]",
      "text/plain": [
       "<Figure size 1080x720 with 1 Axes>"
      ]
     },
     "metadata": {
      "needs_background": "light"
     },
     "output_type": "display_data"
    }
   ],
   "source": [
    "states_df=pd.DataFrame({\n",
    "    \"State\": state_data[\"state\"],\n",
    "    \"Code\":state_data[\"state_id\"],\n",
    "    \"Average Listing Price\": state_data[\"average_listing_price\"],\n",
    "    \"Median Listing Price\": state_data[\"median_listing_price\"]\n",
    "})\n",
    "states_df=states_df.sort_values(by=\"Average Listing Price\", ascending=False)\n",
    "states_df.plot(kind=\"bar\", rot=45, figsize=(15, 10))"
   ]
  },
  {
   "cell_type": "code",
   "execution_count": 20,
   "metadata": {},
   "outputs": [
    {
     "data": {
      "image/png": "[encoded data removed]",
      "text/plain": [
       "<Figure size 2160x1080 with 1 Axes>"
      ]
     },
     "metadata": {
      "needs_background": "light"
     },
     "output_type": "display_data"
    },
    {
     "data": {
      "text/plain": [
       "<Figure size 432x288 with 0 Axes>"
      ]
     },
     "metadata": {},
     "output_type": "display_data"
    }
   ],
   "source": [
    "import numpy as np\n",
    "import matplotlib.pyplot as plt\n",
    "states_df= states_df.sort_values(by=\"Median Listing Price\", ascending=False)\n",
    "\n",
    "x_axis=np.arange(len(states_df))\n",
    "tick_locations=[value for value in x_axis]\n",
    "plt.figure(figsize=(30, 15))\n",
    "plt.bar(x_axis, states_df[\"Median Listing Price\"])\n",
    "plt.xticks(tick_locations, states_df.State.values, rotation=90)\n",
    "plt.title(\"Median Listing Price by State\")\n",
    "plt.show()\n",
    "\n",
    "plt.savefig('state_median.png')"
   ]
  },
  {
   "cell_type": "code",
   "execution_count": 6,
   "metadata": {},
   "outputs": [],
   "source": [
    "# find median rental price by state/ median list price by state\n"
   ]
  },
  {
   "cell_type": "code",
   "execution_count": 7,
   "metadata": {},
   "outputs": [
    {
     "data": {
      "text/html": [
       "<div>\n",
       "<style scoped>\n",
       "    .dataframe tbody tr th:only-of-type {\n",
       "        vertical-align: middle;\n",
       "    }\n",
       "\n",
       "    .dataframe tbody tr th {\n",
       "        vertical-align: top;\n",
       "    }\n",
       "\n",
       "    .dataframe thead th {\n",
       "        text-align: right;\n",
       "    }\n",
       "</style>\n",
       "<table border=\"1\" class=\"dataframe\">\n",
       "  <thead>\n",
       "    <tr style=\"text-align: right;\">\n",
       "      <th></th>\n",
       "      <th>State</th>\n",
       "      <th>Code</th>\n",
       "      <th>Average Listing Price</th>\n",
       "      <th>Median Listing Price</th>\n",
       "    </tr>\n",
       "  </thead>\n",
       "  <tbody>\n",
       "    <tr>\n",
       "      <th>25</th>\n",
       "      <td>California</td>\n",
       "      <td>ca</td>\n",
       "      <td>1417575</td>\n",
       "      <td>698550.0</td>\n",
       "    </tr>\n",
       "    <tr>\n",
       "      <th>28</th>\n",
       "      <td>District Of Columbia</td>\n",
       "      <td>dc</td>\n",
       "      <td>1037274</td>\n",
       "      <td>697212.5</td>\n",
       "    </tr>\n",
       "    <tr>\n",
       "      <th>38</th>\n",
       "      <td>Hawaii</td>\n",
       "      <td>hi</td>\n",
       "      <td>1146380</td>\n",
       "      <td>632550.0</td>\n",
       "    </tr>\n",
       "    <tr>\n",
       "      <th>2</th>\n",
       "      <td>Massachusetts</td>\n",
       "      <td>ma</td>\n",
       "      <td>993678</td>\n",
       "      <td>619950.0</td>\n",
       "    </tr>\n",
       "    <tr>\n",
       "      <th>43</th>\n",
       "      <td>New York</td>\n",
       "      <td>ny</td>\n",
       "      <td>1084950</td>\n",
       "      <td>527050.0</td>\n",
       "    </tr>\n",
       "    <tr>\n",
       "      <th>3</th>\n",
       "      <td>Colorado</td>\n",
       "      <td>co</td>\n",
       "      <td>945532</td>\n",
       "      <td>525000.0</td>\n",
       "    </tr>\n",
       "    <tr>\n",
       "      <th>19</th>\n",
       "      <td>Washington</td>\n",
       "      <td>wa</td>\n",
       "      <td>701181</td>\n",
       "      <td>500005.0</td>\n",
       "    </tr>\n",
       "    <tr>\n",
       "      <th>35</th>\n",
       "      <td>Utah</td>\n",
       "      <td>ut</td>\n",
       "      <td>879658</td>\n",
       "      <td>482049.5</td>\n",
       "    </tr>\n",
       "    <tr>\n",
       "      <th>37</th>\n",
       "      <td>Oregon</td>\n",
       "      <td>or</td>\n",
       "      <td>608091</td>\n",
       "      <td>454025.0</td>\n",
       "    </tr>\n",
       "    <tr>\n",
       "      <th>11</th>\n",
       "      <td>New Jersey</td>\n",
       "      <td>nj</td>\n",
       "      <td>642349</td>\n",
       "      <td>443000.0</td>\n",
       "    </tr>\n",
       "    <tr>\n",
       "      <th>20</th>\n",
       "      <td>Rhode Island</td>\n",
       "      <td>ri</td>\n",
       "      <td>745903</td>\n",
       "      <td>424500.0</td>\n",
       "    </tr>\n",
       "    <tr>\n",
       "      <th>12</th>\n",
       "      <td>Idaho</td>\n",
       "      <td>id</td>\n",
       "      <td>674310</td>\n",
       "      <td>408550.0</td>\n",
       "    </tr>\n",
       "    <tr>\n",
       "      <th>41</th>\n",
       "      <td>Montana</td>\n",
       "      <td>mt</td>\n",
       "      <td>738745</td>\n",
       "      <td>399050.0</td>\n",
       "    </tr>\n",
       "    <tr>\n",
       "      <th>47</th>\n",
       "      <td>Connecticut</td>\n",
       "      <td>ct</td>\n",
       "      <td>803912</td>\n",
       "      <td>397300.0</td>\n",
       "    </tr>\n",
       "    <tr>\n",
       "      <th>24</th>\n",
       "      <td>New Hampshire</td>\n",
       "      <td>nh</td>\n",
       "      <td>518164</td>\n",
       "      <td>392500.0</td>\n",
       "    </tr>\n",
       "    <tr>\n",
       "      <th>5</th>\n",
       "      <td>Arizona</td>\n",
       "      <td>az</td>\n",
       "      <td>629597</td>\n",
       "      <td>389549.5</td>\n",
       "    </tr>\n",
       "    <tr>\n",
       "      <th>48</th>\n",
       "      <td>Maryland</td>\n",
       "      <td>md</td>\n",
       "      <td>508159</td>\n",
       "      <td>367050.0</td>\n",
       "    </tr>\n",
       "    <tr>\n",
       "      <th>50</th>\n",
       "      <td>Virginia</td>\n",
       "      <td>va</td>\n",
       "      <td>511686</td>\n",
       "      <td>359950.0</td>\n",
       "    </tr>\n",
       "    <tr>\n",
       "      <th>46</th>\n",
       "      <td>Nevada</td>\n",
       "      <td>nv</td>\n",
       "      <td>605189</td>\n",
       "      <td>355047.0</td>\n",
       "    </tr>\n",
       "    <tr>\n",
       "      <th>22</th>\n",
       "      <td>Florida</td>\n",
       "      <td>fl</td>\n",
       "      <td>700930</td>\n",
       "      <td>344532.0</td>\n",
       "    </tr>\n",
       "    <tr>\n",
       "      <th>15</th>\n",
       "      <td>Delaware</td>\n",
       "      <td>de</td>\n",
       "      <td>460749</td>\n",
       "      <td>342950.0</td>\n",
       "    </tr>\n",
       "    <tr>\n",
       "      <th>40</th>\n",
       "      <td>North Carolina</td>\n",
       "      <td>nc</td>\n",
       "      <td>470284</td>\n",
       "      <td>340050.0</td>\n",
       "    </tr>\n",
       "    <tr>\n",
       "      <th>34</th>\n",
       "      <td>Georgia</td>\n",
       "      <td>ga</td>\n",
       "      <td>447644</td>\n",
       "      <td>326500.0</td>\n",
       "    </tr>\n",
       "    <tr>\n",
       "      <th>21</th>\n",
       "      <td>Tennessee</td>\n",
       "      <td>tn</td>\n",
       "      <td>464176</td>\n",
       "      <td>325050.0</td>\n",
       "    </tr>\n",
       "    <tr>\n",
       "      <th>8</th>\n",
       "      <td>Vermont</td>\n",
       "      <td>vt</td>\n",
       "      <td>466923</td>\n",
       "      <td>321500.0</td>\n",
       "    </tr>\n",
       "    <tr>\n",
       "      <th>6</th>\n",
       "      <td>Alaska</td>\n",
       "      <td>ak</td>\n",
       "      <td>360721</td>\n",
       "      <td>312500.0</td>\n",
       "    </tr>\n",
       "    <tr>\n",
       "      <th>29</th>\n",
       "      <td>Texas</td>\n",
       "      <td>tx</td>\n",
       "      <td>452955</td>\n",
       "      <td>310698.0</td>\n",
       "    </tr>\n",
       "    <tr>\n",
       "      <th>13</th>\n",
       "      <td>Minnesota</td>\n",
       "      <td>mn</td>\n",
       "      <td>404412</td>\n",
       "      <td>309950.0</td>\n",
       "    </tr>\n",
       "    <tr>\n",
       "      <th>45</th>\n",
       "      <td>Maine</td>\n",
       "      <td>me</td>\n",
       "      <td>448182</td>\n",
       "      <td>299050.0</td>\n",
       "    </tr>\n",
       "    <tr>\n",
       "      <th>14</th>\n",
       "      <td>Wyoming</td>\n",
       "      <td>wy</td>\n",
       "      <td>679244</td>\n",
       "      <td>290050.0</td>\n",
       "    </tr>\n",
       "    <tr>\n",
       "      <th>31</th>\n",
       "      <td>South Carolina</td>\n",
       "      <td>sc</td>\n",
       "      <td>446009</td>\n",
       "      <td>289950.0</td>\n",
       "    </tr>\n",
       "    <tr>\n",
       "      <th>7</th>\n",
       "      <td>New Mexico</td>\n",
       "      <td>nm</td>\n",
       "      <td>421474</td>\n",
       "      <td>282050.0</td>\n",
       "    </tr>\n",
       "    <tr>\n",
       "      <th>27</th>\n",
       "      <td>Wisconsin</td>\n",
       "      <td>wi</td>\n",
       "      <td>359572</td>\n",
       "      <td>275050.0</td>\n",
       "    </tr>\n",
       "    <tr>\n",
       "      <th>49</th>\n",
       "      <td>Illinois</td>\n",
       "      <td>il</td>\n",
       "      <td>380499</td>\n",
       "      <td>259950.0</td>\n",
       "    </tr>\n",
       "    <tr>\n",
       "      <th>32</th>\n",
       "      <td>Pennsylvania</td>\n",
       "      <td>pa</td>\n",
       "      <td>374843</td>\n",
       "      <td>259728.0</td>\n",
       "    </tr>\n",
       "    <tr>\n",
       "      <th>36</th>\n",
       "      <td>Nebraska</td>\n",
       "      <td>ne</td>\n",
       "      <td>317024</td>\n",
       "      <td>259200.0</td>\n",
       "    </tr>\n",
       "    <tr>\n",
       "      <th>42</th>\n",
       "      <td>South Dakota</td>\n",
       "      <td>sd</td>\n",
       "      <td>331849</td>\n",
       "      <td>258950.0</td>\n",
       "    </tr>\n",
       "    <tr>\n",
       "      <th>0</th>\n",
       "      <td>Alabama</td>\n",
       "      <td>al</td>\n",
       "      <td>339592</td>\n",
       "      <td>258050.0</td>\n",
       "    </tr>\n",
       "    <tr>\n",
       "      <th>23</th>\n",
       "      <td>Michigan</td>\n",
       "      <td>mi</td>\n",
       "      <td>359709</td>\n",
       "      <td>255050.0</td>\n",
       "    </tr>\n",
       "    <tr>\n",
       "      <th>10</th>\n",
       "      <td>Louisiana</td>\n",
       "      <td>la</td>\n",
       "      <td>331428</td>\n",
       "      <td>249750.0</td>\n",
       "    </tr>\n",
       "    <tr>\n",
       "      <th>18</th>\n",
       "      <td>North Dakota</td>\n",
       "      <td>nd</td>\n",
       "      <td>280289</td>\n",
       "      <td>239891.5</td>\n",
       "    </tr>\n",
       "    <tr>\n",
       "      <th>17</th>\n",
       "      <td>Kentucky</td>\n",
       "      <td>ky</td>\n",
       "      <td>320751</td>\n",
       "      <td>239500.0</td>\n",
       "    </tr>\n",
       "    <tr>\n",
       "      <th>30</th>\n",
       "      <td>Oklahoma</td>\n",
       "      <td>ok</td>\n",
       "      <td>319118</td>\n",
       "      <td>239175.0</td>\n",
       "    </tr>\n",
       "    <tr>\n",
       "      <th>33</th>\n",
       "      <td>Indiana</td>\n",
       "      <td>in</td>\n",
       "      <td>306618</td>\n",
       "      <td>238144.5</td>\n",
       "    </tr>\n",
       "    <tr>\n",
       "      <th>26</th>\n",
       "      <td>Missouri</td>\n",
       "      <td>mo</td>\n",
       "      <td>315018</td>\n",
       "      <td>229950.0</td>\n",
       "    </tr>\n",
       "    <tr>\n",
       "      <th>1</th>\n",
       "      <td>Iowa</td>\n",
       "      <td>ia</td>\n",
       "      <td>260855</td>\n",
       "      <td>224000.0</td>\n",
       "    </tr>\n",
       "    <tr>\n",
       "      <th>4</th>\n",
       "      <td>Ohio</td>\n",
       "      <td>oh</td>\n",
       "      <td>307861</td>\n",
       "      <td>222500.0</td>\n",
       "    </tr>\n",
       "    <tr>\n",
       "      <th>44</th>\n",
       "      <td>Mississippi</td>\n",
       "      <td>ms</td>\n",
       "      <td>282686</td>\n",
       "      <td>220050.0</td>\n",
       "    </tr>\n",
       "    <tr>\n",
       "      <th>9</th>\n",
       "      <td>Kansas</td>\n",
       "      <td>ks</td>\n",
       "      <td>321772</td>\n",
       "      <td>220000.0</td>\n",
       "    </tr>\n",
       "    <tr>\n",
       "      <th>16</th>\n",
       "      <td>Arkansas</td>\n",
       "      <td>ar</td>\n",
       "      <td>286706</td>\n",
       "      <td>209500.0</td>\n",
       "    </tr>\n",
       "    <tr>\n",
       "      <th>39</th>\n",
       "      <td>West Virginia</td>\n",
       "      <td>wv</td>\n",
       "      <td>247702</td>\n",
       "      <td>174545.0</td>\n",
       "    </tr>\n",
       "  </tbody>\n",
       "</table>\n",
       "</div>"
      ],
      "text/plain": [
       "                   State Code  Average Listing Price  Median Listing Price\n",
       "25            California   ca                1417575              698550.0\n",
       "28  District Of Columbia   dc                1037274              697212.5\n",
       "38                Hawaii   hi                1146380              632550.0\n",
       "2          Massachusetts   ma                 993678              619950.0\n",
       "43              New York   ny                1084950              527050.0\n",
       "3               Colorado   co                 945532              525000.0\n",
       "19            Washington   wa                 701181              500005.0\n",
       "35                  Utah   ut                 879658              482049.5\n",
       "37                Oregon   or                 608091              454025.0\n",
       "11            New Jersey   nj                 642349              443000.0\n",
       "20          Rhode Island   ri                 745903              424500.0\n",
       "12                 Idaho   id                 674310              408550.0\n",
       "41               Montana   mt                 738745              399050.0\n",
       "47           Connecticut   ct                 803912              397300.0\n",
       "24         New Hampshire   nh                 518164              392500.0\n",
       "5                Arizona   az                 629597              389549.5\n",
       "48              Maryland   md                 508159              367050.0\n",
       "50              Virginia   va                 511686              359950.0\n",
       "46                Nevada   nv                 605189              355047.0\n",
       "22               Florida   fl                 700930              344532.0\n",
       "15              Delaware   de                 460749              342950.0\n",
       "40        North Carolina   nc                 470284              340050.0\n",
       "34               Georgia   ga                 447644              326500.0\n",
       "21             Tennessee   tn                 464176              325050.0\n",
       "8                Vermont   vt                 466923              321500.0\n",
       "6                 Alaska   ak                 360721              312500.0\n",
       "29                 Texas   tx                 452955              310698.0\n",
       "13             Minnesota   mn                 404412              309950.0\n",
       "45                 Maine   me                 448182              299050.0\n",
       "14               Wyoming   wy                 679244              290050.0\n",
       "31        South Carolina   sc                 446009              289950.0\n",
       "7             New Mexico   nm                 421474              282050.0\n",
       "27             Wisconsin   wi                 359572              275050.0\n",
       "49              Illinois   il                 380499              259950.0\n",
       "32          Pennsylvania   pa                 374843              259728.0\n",
       "36              Nebraska   ne                 317024              259200.0\n",
       "42          South Dakota   sd                 331849              258950.0\n",
       "0                Alabama   al                 339592              258050.0\n",
       "23              Michigan   mi                 359709              255050.0\n",
       "10             Louisiana   la                 331428              249750.0\n",
       "18          North Dakota   nd                 280289              239891.5\n",
       "17              Kentucky   ky                 320751              239500.0\n",
       "30              Oklahoma   ok                 319118              239175.0\n",
       "33               Indiana   in                 306618              238144.5\n",
       "26              Missouri   mo                 315018              229950.0\n",
       "1                   Iowa   ia                 260855              224000.0\n",
       "4                   Ohio   oh                 307861              222500.0\n",
       "44           Mississippi   ms                 282686              220050.0\n",
       "9                 Kansas   ks                 321772              220000.0\n",
       "16              Arkansas   ar                 286706              209500.0\n",
       "39         West Virginia   wv                 247702              174545.0"
      ]
     },
     "execution_count": 7,
     "metadata": {},
     "output_type": "execute_result"
    }
   ],
   "source": [
    "states_df[\"State\"]=states_df[\"State\"].str.title()\n",
    "# states\n",
    "# states_df.replace(to_replace=states_df[\"States\"], states)\n",
    "states_df"
   ]
  },
  {
   "cell_type": "code",
   "execution_count": 8,
   "metadata": {},
   "outputs": [
    {
     "data": {
      "text/html": [
       "<div>\n",
       "<style scoped>\n",
       "    .dataframe tbody tr th:only-of-type {\n",
       "        vertical-align: middle;\n",
       "    }\n",
       "\n",
       "    .dataframe tbody tr th {\n",
       "        vertical-align: top;\n",
       "    }\n",
       "\n",
       "    .dataframe thead th {\n",
       "        text-align: right;\n",
       "    }\n",
       "</style>\n",
       "<table border=\"1\" class=\"dataframe\">\n",
       "  <thead>\n",
       "    <tr style=\"text-align: right;\">\n",
       "      <th></th>\n",
       "      <th>State</th>\n",
       "      <th>MedianRent</th>\n",
       "    </tr>\n",
       "  </thead>\n",
       "  <tbody>\n",
       "    <tr>\n",
       "      <th>0</th>\n",
       "      <td>Hawaii</td>\n",
       "      <td>1566</td>\n",
       "    </tr>\n",
       "    <tr>\n",
       "      <th>1</th>\n",
       "      <td>California</td>\n",
       "      <td>1429</td>\n",
       "    </tr>\n",
       "    <tr>\n",
       "      <th>2</th>\n",
       "      <td>Maryland</td>\n",
       "      <td>1357</td>\n",
       "    </tr>\n",
       "    <tr>\n",
       "      <th>3</th>\n",
       "      <td>New Jersey</td>\n",
       "      <td>1295</td>\n",
       "    </tr>\n",
       "    <tr>\n",
       "      <th>4</th>\n",
       "      <td>New York</td>\n",
       "      <td>1240</td>\n",
       "    </tr>\n",
       "    <tr>\n",
       "      <th>5</th>\n",
       "      <td>Alaska</td>\n",
       "      <td>1231</td>\n",
       "    </tr>\n",
       "    <tr>\n",
       "      <th>6</th>\n",
       "      <td>Massachusetts</td>\n",
       "      <td>1225</td>\n",
       "    </tr>\n",
       "    <tr>\n",
       "      <th>7</th>\n",
       "      <td>Virginia</td>\n",
       "      <td>1202</td>\n",
       "    </tr>\n",
       "    <tr>\n",
       "      <th>8</th>\n",
       "      <td>Colorado</td>\n",
       "      <td>1196</td>\n",
       "    </tr>\n",
       "    <tr>\n",
       "      <th>9</th>\n",
       "      <td>Washington</td>\n",
       "      <td>1194</td>\n",
       "    </tr>\n",
       "    <tr>\n",
       "      <th>10</th>\n",
       "      <td>Connecticut</td>\n",
       "      <td>1156</td>\n",
       "    </tr>\n",
       "    <tr>\n",
       "      <th>11</th>\n",
       "      <td>Florida</td>\n",
       "      <td>1128</td>\n",
       "    </tr>\n",
       "    <tr>\n",
       "      <th>12</th>\n",
       "      <td>Delaware</td>\n",
       "      <td>1110</td>\n",
       "    </tr>\n",
       "    <tr>\n",
       "      <th>13</th>\n",
       "      <td>New Hampshire</td>\n",
       "      <td>1077</td>\n",
       "    </tr>\n",
       "    <tr>\n",
       "      <th>14</th>\n",
       "      <td>Nevada</td>\n",
       "      <td>1060</td>\n",
       "    </tr>\n",
       "    <tr>\n",
       "      <th>15</th>\n",
       "      <td>Oregon</td>\n",
       "      <td>1050</td>\n",
       "    </tr>\n",
       "    <tr>\n",
       "      <th>16</th>\n",
       "      <td>Arizona</td>\n",
       "      <td>1009</td>\n",
       "    </tr>\n",
       "    <tr>\n",
       "      <th>17</th>\n",
       "      <td>Texas</td>\n",
       "      <td>998</td>\n",
       "    </tr>\n",
       "    <tr>\n",
       "      <th>18</th>\n",
       "      <td>Utah</td>\n",
       "      <td>988</td>\n",
       "    </tr>\n",
       "    <tr>\n",
       "      <th>19</th>\n",
       "      <td>Illinois</td>\n",
       "      <td>984</td>\n",
       "    </tr>\n",
       "    <tr>\n",
       "      <th>20</th>\n",
       "      <td>Rhode Island</td>\n",
       "      <td>981</td>\n",
       "    </tr>\n",
       "    <tr>\n",
       "      <th>21</th>\n",
       "      <td>Vermont</td>\n",
       "      <td>972</td>\n",
       "    </tr>\n",
       "    <tr>\n",
       "      <th>22</th>\n",
       "      <td>Georgia</td>\n",
       "      <td>968</td>\n",
       "    </tr>\n",
       "    <tr>\n",
       "      <th>23</th>\n",
       "      <td>Minnesota</td>\n",
       "      <td>944</td>\n",
       "    </tr>\n",
       "    <tr>\n",
       "      <th>24</th>\n",
       "      <td>Pennsylvania</td>\n",
       "      <td>915</td>\n",
       "    </tr>\n",
       "    <tr>\n",
       "      <th>25</th>\n",
       "      <td>North Carolina</td>\n",
       "      <td>877</td>\n",
       "    </tr>\n",
       "    <tr>\n",
       "      <th>26</th>\n",
       "      <td>South Carolina</td>\n",
       "      <td>868</td>\n",
       "    </tr>\n",
       "    <tr>\n",
       "      <th>27</th>\n",
       "      <td>Michigan</td>\n",
       "      <td>850</td>\n",
       "    </tr>\n",
       "    <tr>\n",
       "      <th>28</th>\n",
       "      <td>Louisiana</td>\n",
       "      <td>850</td>\n",
       "    </tr>\n",
       "    <tr>\n",
       "      <th>29</th>\n",
       "      <td>Wyoming</td>\n",
       "      <td>843</td>\n",
       "    </tr>\n",
       "    <tr>\n",
       "      <th>30</th>\n",
       "      <td>Tennessee</td>\n",
       "      <td>841</td>\n",
       "    </tr>\n",
       "    <tr>\n",
       "      <th>31</th>\n",
       "      <td>Wisconsin</td>\n",
       "      <td>837</td>\n",
       "    </tr>\n",
       "    <tr>\n",
       "      <th>32</th>\n",
       "      <td>Maine</td>\n",
       "      <td>831</td>\n",
       "    </tr>\n",
       "    <tr>\n",
       "      <th>33</th>\n",
       "      <td>Kansas</td>\n",
       "      <td>831</td>\n",
       "    </tr>\n",
       "    <tr>\n",
       "      <th>34</th>\n",
       "      <td>New Mexico</td>\n",
       "      <td>828</td>\n",
       "    </tr>\n",
       "    <tr>\n",
       "      <th>35</th>\n",
       "      <td>Idaho</td>\n",
       "      <td>825</td>\n",
       "    </tr>\n",
       "    <tr>\n",
       "      <th>36</th>\n",
       "      <td>Missouri</td>\n",
       "      <td>809</td>\n",
       "    </tr>\n",
       "    <tr>\n",
       "      <th>37</th>\n",
       "      <td>Indiana</td>\n",
       "      <td>807</td>\n",
       "    </tr>\n",
       "    <tr>\n",
       "      <th>38</th>\n",
       "      <td>North Dakota</td>\n",
       "      <td>806</td>\n",
       "    </tr>\n",
       "    <tr>\n",
       "      <th>39</th>\n",
       "      <td>Nebraska</td>\n",
       "      <td>805</td>\n",
       "    </tr>\n",
       "    <tr>\n",
       "      <th>40</th>\n",
       "      <td>Oklahoma</td>\n",
       "      <td>793</td>\n",
       "    </tr>\n",
       "    <tr>\n",
       "      <th>41</th>\n",
       "      <td>Ohio</td>\n",
       "      <td>788</td>\n",
       "    </tr>\n",
       "    <tr>\n",
       "      <th>42</th>\n",
       "      <td>Montana</td>\n",
       "      <td>783</td>\n",
       "    </tr>\n",
       "    <tr>\n",
       "      <th>43</th>\n",
       "      <td>Alabama</td>\n",
       "      <td>772</td>\n",
       "    </tr>\n",
       "    <tr>\n",
       "      <th>44</th>\n",
       "      <td>Iowa</td>\n",
       "      <td>766</td>\n",
       "    </tr>\n",
       "    <tr>\n",
       "      <th>45</th>\n",
       "      <td>Mississippi</td>\n",
       "      <td>762</td>\n",
       "    </tr>\n",
       "    <tr>\n",
       "      <th>46</th>\n",
       "      <td>Kentucky</td>\n",
       "      <td>741</td>\n",
       "    </tr>\n",
       "    <tr>\n",
       "      <th>47</th>\n",
       "      <td>Arkansas</td>\n",
       "      <td>729</td>\n",
       "    </tr>\n",
       "    <tr>\n",
       "      <th>48</th>\n",
       "      <td>South Dakota</td>\n",
       "      <td>722</td>\n",
       "    </tr>\n",
       "    <tr>\n",
       "      <th>49</th>\n",
       "      <td>West Virginia</td>\n",
       "      <td>711</td>\n",
       "    </tr>\n",
       "  </tbody>\n",
       "</table>\n",
       "</div>"
      ],
      "text/plain": [
       "             State  MedianRent\n",
       "0           Hawaii        1566\n",
       "1       California        1429\n",
       "2         Maryland        1357\n",
       "3       New Jersey        1295\n",
       "4         New York        1240\n",
       "5           Alaska        1231\n",
       "6    Massachusetts        1225\n",
       "7         Virginia        1202\n",
       "8         Colorado        1196\n",
       "9       Washington        1194\n",
       "10     Connecticut        1156\n",
       "11         Florida        1128\n",
       "12        Delaware        1110\n",
       "13   New Hampshire        1077\n",
       "14          Nevada        1060\n",
       "15          Oregon        1050\n",
       "16         Arizona        1009\n",
       "17           Texas         998\n",
       "18            Utah         988\n",
       "19        Illinois         984\n",
       "20    Rhode Island         981\n",
       "21         Vermont         972\n",
       "22         Georgia         968\n",
       "23       Minnesota         944\n",
       "24    Pennsylvania         915\n",
       "25  North Carolina         877\n",
       "26  South Carolina         868\n",
       "27        Michigan         850\n",
       "28       Louisiana         850\n",
       "29         Wyoming         843\n",
       "30       Tennessee         841\n",
       "31       Wisconsin         837\n",
       "32           Maine         831\n",
       "33          Kansas         831\n",
       "34      New Mexico         828\n",
       "35           Idaho         825\n",
       "36        Missouri         809\n",
       "37         Indiana         807\n",
       "38    North Dakota         806\n",
       "39        Nebraska         805\n",
       "40        Oklahoma         793\n",
       "41            Ohio         788\n",
       "42         Montana         783\n",
       "43         Alabama         772\n",
       "44            Iowa         766\n",
       "45     Mississippi         762\n",
       "46        Kentucky         741\n",
       "47        Arkansas         729\n",
       "48    South Dakota         722\n",
       "49   West Virginia         711"
      ]
     },
     "execution_count": 8,
     "metadata": {},
     "output_type": "execute_result"
    }
   ],
   "source": [
    "#average rental price\n",
    "\n",
    "rent_path=\"average rent price by state.csv\"\n",
    "\n",
    "rent_data=pd.read_csv(rent_path)\n",
    "rent_data"
   ]
  },
  {
   "cell_type": "code",
   "execution_count": 17,
   "metadata": {},
   "outputs": [
    {
     "data": {
      "text/html": [
       "<div>\n",
       "<style scoped>\n",
       "    .dataframe tbody tr th:only-of-type {\n",
       "        vertical-align: middle;\n",
       "    }\n",
       "\n",
       "    .dataframe tbody tr th {\n",
       "        vertical-align: top;\n",
       "    }\n",
       "\n",
       "    .dataframe thead th {\n",
       "        text-align: right;\n",
       "    }\n",
       "</style>\n",
       "<table border=\"1\" class=\"dataframe\">\n",
       "  <thead>\n",
       "    <tr style=\"text-align: right;\">\n",
       "      <th></th>\n",
       "      <th>State</th>\n",
       "      <th>Code</th>\n",
       "      <th>Average Listing Price</th>\n",
       "      <th>Median Listing Price</th>\n",
       "      <th>MedianRent</th>\n",
       "    </tr>\n",
       "  </thead>\n",
       "  <tbody>\n",
       "    <tr>\n",
       "      <th>0</th>\n",
       "      <td>California</td>\n",
       "      <td>ca</td>\n",
       "      <td>1417575</td>\n",
       "      <td>698550.0</td>\n",
       "      <td>1429</td>\n",
       "    </tr>\n",
       "    <tr>\n",
       "      <th>1</th>\n",
       "      <td>Hawaii</td>\n",
       "      <td>hi</td>\n",
       "      <td>1146380</td>\n",
       "      <td>632550.0</td>\n",
       "      <td>1566</td>\n",
       "    </tr>\n",
       "    <tr>\n",
       "      <th>2</th>\n",
       "      <td>Massachusetts</td>\n",
       "      <td>ma</td>\n",
       "      <td>993678</td>\n",
       "      <td>619950.0</td>\n",
       "      <td>1225</td>\n",
       "    </tr>\n",
       "    <tr>\n",
       "      <th>3</th>\n",
       "      <td>New York</td>\n",
       "      <td>ny</td>\n",
       "      <td>1084950</td>\n",
       "      <td>527050.0</td>\n",
       "      <td>1240</td>\n",
       "    </tr>\n",
       "    <tr>\n",
       "      <th>4</th>\n",
       "      <td>Colorado</td>\n",
       "      <td>co</td>\n",
       "      <td>945532</td>\n",
       "      <td>525000.0</td>\n",
       "      <td>1196</td>\n",
       "    </tr>\n",
       "  </tbody>\n",
       "</table>\n",
       "</div>"
      ],
      "text/plain": [
       "           State Code  Average Listing Price  Median Listing Price  MedianRent\n",
       "0     California   ca                1417575              698550.0        1429\n",
       "1         Hawaii   hi                1146380              632550.0        1566\n",
       "2  Massachusetts   ma                 993678              619950.0        1225\n",
       "3       New York   ny                1084950              527050.0        1240\n",
       "4       Colorado   co                 945532              525000.0        1196"
      ]
     },
     "execution_count": 17,
     "metadata": {},
     "output_type": "execute_result"
    }
   ],
   "source": [
    "# merge states_df with rent_data\n",
    "\n",
    "compare= pd.merge(states_df, rent_data, how=\"inner\", on=[\"State\", \"State\"])\n",
    "compare.head()\n",
    "\n",
    "x = compare[\"State\"]\n",
    "y = \n",
    "plt.plot()"
   ]
  },
  {
   "cell_type": "code",
   "execution_count": 14,
   "metadata": {},
   "outputs": [
    {
     "data": {
      "text/html": [
       "<div>\n",
       "<style scoped>\n",
       "    .dataframe tbody tr th:only-of-type {\n",
       "        vertical-align: middle;\n",
       "    }\n",
       "\n",
       "    .dataframe tbody tr th {\n",
       "        vertical-align: top;\n",
       "    }\n",
       "\n",
       "    .dataframe thead th {\n",
       "        text-align: right;\n",
       "    }\n",
       "</style>\n",
       "<table border=\"1\" class=\"dataframe\">\n",
       "  <thead>\n",
       "    <tr style=\"text-align: right;\">\n",
       "      <th></th>\n",
       "      <th>State</th>\n",
       "      <th>Code</th>\n",
       "      <th>Average Listing Price</th>\n",
       "      <th>Median Listing Price</th>\n",
       "      <th>MedianRent</th>\n",
       "      <th>Rent Index</th>\n",
       "    </tr>\n",
       "  </thead>\n",
       "  <tbody>\n",
       "    <tr>\n",
       "      <th>49</th>\n",
       "      <td>West Virginia</td>\n",
       "      <td>wv</td>\n",
       "      <td>247702</td>\n",
       "      <td>174545.0</td>\n",
       "      <td>711</td>\n",
       "      <td>0.0489</td>\n",
       "    </tr>\n",
       "    <tr>\n",
       "      <th>24</th>\n",
       "      <td>Alaska</td>\n",
       "      <td>ak</td>\n",
       "      <td>360721</td>\n",
       "      <td>312500.0</td>\n",
       "      <td>1231</td>\n",
       "      <td>0.0473</td>\n",
       "    </tr>\n",
       "    <tr>\n",
       "      <th>32</th>\n",
       "      <td>Illinois</td>\n",
       "      <td>il</td>\n",
       "      <td>380499</td>\n",
       "      <td>259950.0</td>\n",
       "      <td>984</td>\n",
       "      <td>0.0454</td>\n",
       "    </tr>\n",
       "    <tr>\n",
       "      <th>47</th>\n",
       "      <td>Kansas</td>\n",
       "      <td>ks</td>\n",
       "      <td>321772</td>\n",
       "      <td>220000.0</td>\n",
       "      <td>831</td>\n",
       "      <td>0.0453</td>\n",
       "    </tr>\n",
       "    <tr>\n",
       "      <th>15</th>\n",
       "      <td>Maryland</td>\n",
       "      <td>md</td>\n",
       "      <td>508159</td>\n",
       "      <td>367050.0</td>\n",
       "      <td>1357</td>\n",
       "      <td>0.0444</td>\n",
       "    </tr>\n",
       "  </tbody>\n",
       "</table>\n",
       "</div>"
      ],
      "text/plain": [
       "            State Code  Average Listing Price  Median Listing Price  \\\n",
       "49  West Virginia   wv                 247702              174545.0   \n",
       "24         Alaska   ak                 360721              312500.0   \n",
       "32       Illinois   il                 380499              259950.0   \n",
       "47         Kansas   ks                 321772              220000.0   \n",
       "15       Maryland   md                 508159              367050.0   \n",
       "\n",
       "    MedianRent  Rent Index  \n",
       "49         711      0.0489  \n",
       "24        1231      0.0473  \n",
       "32         984      0.0454  \n",
       "47         831      0.0453  \n",
       "15        1357      0.0444  "
      ]
     },
     "execution_count": 14,
     "metadata": {},
     "output_type": "execute_result"
    }
   ],
   "source": [
    "compare[\"Rent Index\"]=\"\"\n",
    "compare[\"Rent Index\"]=round(compare[\"MedianRent\"]*12/compare[\"Median Listing Price\"],4)\n",
    "\n",
    "compare_pd = pd.DataFrame(compare)\n",
    "compare_pd.sort_values(by=[\"Rent Index\"], ascending=False, inplace = True)\n",
    "compare_pd.head()\n",
    "\n"
   ]
  },
  {
   "cell_type": "code",
   "execution_count": 35,
   "metadata": {
    "scrolled": true
   },
   "outputs": [
    {
     "data": {
      "application/vnd.plotly.v1+json": {
       "config": {
        "plotlyServerURL": "https://plot.ly"
       },
       "data": [
        {
         "coloraxis": "coloraxis",
         "geo": "geo",
         "hovertemplate": "locations=%{location}<br>color=%{z}<extra></extra>",
         "locationmode": "USA-states",
         "locations": [
          "WV",
          "AK",
          "IL",
          "KS",
          "MD",
          "OH",
          "PA",
          "MO",
          "AR",
          "MS",
          "IA",
          "LA",
          "IN",
          "ND",
          "VA",
          "MI",
          "OK",
          "FL",
          "DE",
          "TX",
          "NE",
          "KY",
          "WI",
          "MN",
          "VT",
          "SC",
          "AL",
          "NV",
          "GA",
          "NM",
          "NJ",
          "CT",
          "WY",
          "SD",
          "ME",
          "NH",
          "AZ",
          "TN",
          "NC",
          "HI",
          "WA",
          "NY",
          "OR",
          "RI",
          "CO",
          "UT",
          "CA",
          "ID",
          "MA",
          "MT"
         ],
         "name": "",
         "type": "choropleth",
         "z": [
          0.0489,
          0.0473,
          0.0454,
          0.0453,
          0.0444,
          0.0425,
          0.0423,
          0.0422,
          0.0418,
          0.0416,
          0.041,
          0.0408,
          0.0407,
          0.0403,
          0.0401,
          0.04,
          0.0398,
          0.0393,
          0.0388,
          0.0385,
          0.0373,
          0.0371,
          0.0365,
          0.0365,
          0.0363,
          0.0359,
          0.0359,
          0.0358,
          0.0356,
          0.0352,
          0.0351,
          0.0349,
          0.0349,
          0.0335,
          0.0333,
          0.0329,
          0.0311,
          0.031,
          0.0309,
          0.0297,
          0.0287,
          0.0282,
          0.0278,
          0.0277,
          0.0273,
          0.0246,
          0.0245,
          0.0242,
          0.0237,
          0.0235
         ]
        }
       ],
       "layout": {
        "coloraxis": {
         "colorbar": {
          "title": {
           "text": "color"
          }
         },
         "colorscale": [
          [
           0,
           "#0d0887"
          ],
          [
           0.1111111111111111,
           "#46039f"
          ],
          [
           0.2222222222222222,
           "#7201a8"
          ],
          [
           0.3333333333333333,
           "#9c179e"
          ],
          [
           0.4444444444444444,
           "#bd3786"
          ],
          [
           0.5555555555555556,
           "#d8576b"
          ],
          [
           0.6666666666666666,
           "#ed7953"
          ],
          [
           0.7777777777777778,
           "#fb9f3a"
          ],
          [
           0.8888888888888888,
           "#fdca26"
          ],
          [
           1,
           "#f0f921"
          ]
         ]
        },
        "geo": {
         "center": {},
         "domain": {
          "x": [
           0,
           1
          ],
          "y": [
           0,
           1
          ]
         },
         "scope": "usa"
        },
        "legend": {
         "tracegroupgap": 0
        },
        "margin": {
         "t": 60
        },
        "template": {
         "data": {
          "bar": [
           {
            "error_x": {
             "color": "#2a3f5f"
            },
            "error_y": {
             "color": "#2a3f5f"
            },
            "marker": {
             "line": {
              "color": "#E5ECF6",
              "width": 0.5
             }
            },
            "type": "bar"
           }
          ],
          "barpolar": [
           {
            "marker": {
             "line": {
              "color": "#E5ECF6",
              "width": 0.5
             }
            },
            "type": "barpolar"
           }
          ],
          "carpet": [
           {
            "aaxis": {
             "endlinecolor": "#2a3f5f",
             "gridcolor": "white",
             "linecolor": "white",
             "minorgridcolor": "white",
             "startlinecolor": "#2a3f5f"
            },
            "baxis": {
             "endlinecolor": "#2a3f5f",
             "gridcolor": "white",
             "linecolor": "white",
             "minorgridcolor": "white",
             "startlinecolor": "#2a3f5f"
            },
            "type": "carpet"
           }
          ],
          "choropleth": [
           {
            "colorbar": {
             "outlinewidth": 0,
             "ticks": ""
            },
            "type": "choropleth"
           }
          ],
          "contour": [
           {
            "colorbar": {
             "outlinewidth": 0,
             "ticks": ""
            },
            "colorscale": [
             [
              0,
              "#0d0887"
             ],
             [
              0.1111111111111111,
              "#46039f"
             ],
             [
              0.2222222222222222,
              "#7201a8"
             ],
             [
              0.3333333333333333,
              "#9c179e"
             ],
             [
              0.4444444444444444,
              "#bd3786"
             ],
             [
              0.5555555555555556,
              "#d8576b"
             ],
             [
              0.6666666666666666,
              "#ed7953"
             ],
             [
              0.7777777777777778,
              "#fb9f3a"
             ],
             [
              0.8888888888888888,
              "#fdca26"
             ],
             [
              1,
              "#f0f921"
             ]
            ],
            "type": "contour"
           }
          ],
          "contourcarpet": [
           {
            "colorbar": {
             "outlinewidth": 0,
             "ticks": ""
            },
            "type": "contourcarpet"
           }
          ],
          "heatmap": [
           {
            "colorbar": {
             "outlinewidth": 0,
             "ticks": ""
            },
            "colorscale": [
             [
              0,
              "#0d0887"
             ],
             [
              0.1111111111111111,
              "#46039f"
             ],
             [
              0.2222222222222222,
              "#7201a8"
             ],
             [
              0.3333333333333333,
              "#9c179e"
             ],
             [
              0.4444444444444444,
              "#bd3786"
             ],
             [
              0.5555555555555556,
              "#d8576b"
             ],
             [
              0.6666666666666666,
              "#ed7953"
             ],
             [
              0.7777777777777778,
              "#fb9f3a"
             ],
             [
              0.8888888888888888,
              "#fdca26"
             ],
             [
              1,
              "#f0f921"
             ]
            ],
            "type": "heatmap"
           }
          ],
          "heatmapgl": [
           {
            "colorbar": {
             "outlinewidth": 0,
             "ticks": ""
            },
            "colorscale": [
             [
              0,
              "#0d0887"
             ],
             [
              0.1111111111111111,
              "#46039f"
             ],
             [
              0.2222222222222222,
              "#7201a8"
             ],
             [
              0.3333333333333333,
              "#9c179e"
             ],
             [
              0.4444444444444444,
              "#bd3786"
             ],
             [
              0.5555555555555556,
              "#d8576b"
             ],
             [
              0.6666666666666666,
              "#ed7953"
             ],
             [
              0.7777777777777778,
              "#fb9f3a"
             ],
             [
              0.8888888888888888,
              "#fdca26"
             ],
             [
              1,
              "#f0f921"
             ]
            ],
            "type": "heatmapgl"
           }
          ],
          "histogram": [
           {
            "marker": {
             "colorbar": {
              "outlinewidth": 0,
              "ticks": ""
             }
            },
            "type": "histogram"
           }
          ],
          "histogram2d": [
           {
            "colorbar": {
             "outlinewidth": 0,
             "ticks": ""
            },
            "colorscale": [
             [
              0,
              "#0d0887"
             ],
             [
              0.1111111111111111,
              "#46039f"
             ],
             [
              0.2222222222222222,
              "#7201a8"
             ],
             [
              0.3333333333333333,
              "#9c179e"
             ],
             [
              0.4444444444444444,
              "#bd3786"
             ],
             [
              0.5555555555555556,
              "#d8576b"
             ],
             [
              0.6666666666666666,
              "#ed7953"
             ],
             [
              0.7777777777777778,
              "#fb9f3a"
             ],
             [
              0.8888888888888888,
              "#fdca26"
             ],
             [
              1,
              "#f0f921"
             ]
            ],
            "type": "histogram2d"
           }
          ],
          "histogram2dcontour": [
           {
            "colorbar": {
             "outlinewidth": 0,
             "ticks": ""
            },
            "colorscale": [
             [
              0,
              "#0d0887"
             ],
             [
              0.1111111111111111,
              "#46039f"
             ],
             [
              0.2222222222222222,
              "#7201a8"
             ],
             [
              0.3333333333333333,
              "#9c179e"
             ],
             [
              0.4444444444444444,
              "#bd3786"
             ],
             [
              0.5555555555555556,
              "#d8576b"
             ],
             [
              0.6666666666666666,
              "#ed7953"
             ],
             [
              0.7777777777777778,
              "#fb9f3a"
             ],
             [
              0.8888888888888888,
              "#fdca26"
             ],
             [
              1,
              "#f0f921"
             ]
            ],
            "type": "histogram2dcontour"
           }
          ],
          "mesh3d": [
           {
            "colorbar": {
             "outlinewidth": 0,
             "ticks": ""
            },
            "type": "mesh3d"
           }
          ],
          "parcoords": [
           {
            "line": {
             "colorbar": {
              "outlinewidth": 0,
              "ticks": ""
             }
            },
            "type": "parcoords"
           }
          ],
          "pie": [
           {
            "automargin": true,
            "type": "pie"
           }
          ],
          "scatter": [
           {
            "marker": {
             "colorbar": {
              "outlinewidth": 0,
              "ticks": ""
             }
            },
            "type": "scatter"
           }
          ],
          "scatter3d": [
           {
            "line": {
             "colorbar": {
              "outlinewidth": 0,
              "ticks": ""
             }
            },
            "marker": {
             "colorbar": {
              "outlinewidth": 0,
              "ticks": ""
             }
            },
            "type": "scatter3d"
           }
          ],
          "scattercarpet": [
           {
            "marker": {
             "colorbar": {
              "outlinewidth": 0,
              "ticks": ""
             }
            },
            "type": "scattercarpet"
           }
          ],
          "scattergeo": [
           {
            "marker": {
             "colorbar": {
              "outlinewidth": 0,
              "ticks": ""
             }
            },
            "type": "scattergeo"
           }
          ],
          "scattergl": [
           {
            "marker": {
             "colorbar": {
              "outlinewidth": 0,
              "ticks": ""
             }
            },
            "type": "scattergl"
           }
          ],
          "scattermapbox": [
           {
            "marker": {
             "colorbar": {
              "outlinewidth": 0,
              "ticks": ""
             }
            },
            "type": "scattermapbox"
           }
          ],
          "scatterpolar": [
           {
            "marker": {
             "colorbar": {
              "outlinewidth": 0,
              "ticks": ""
             }
            },
            "type": "scatterpolar"
           }
          ],
          "scatterpolargl": [
           {
            "marker": {
             "colorbar": {
              "outlinewidth": 0,
              "ticks": ""
             }
            },
            "type": "scatterpolargl"
           }
          ],
          "scatterternary": [
           {
            "marker": {
             "colorbar": {
              "outlinewidth": 0,
              "ticks": ""
             }
            },
            "type": "scatterternary"
           }
          ],
          "surface": [
           {
            "colorbar": {
             "outlinewidth": 0,
             "ticks": ""
            },
            "colorscale": [
             [
              0,
              "#0d0887"
             ],
             [
              0.1111111111111111,
              "#46039f"
             ],
             [
              0.2222222222222222,
              "#7201a8"
             ],
             [
              0.3333333333333333,
              "#9c179e"
             ],
             [
              0.4444444444444444,
              "#bd3786"
             ],
             [
              0.5555555555555556,
              "#d8576b"
             ],
             [
              0.6666666666666666,
              "#ed7953"
             ],
             [
              0.7777777777777778,
              "#fb9f3a"
             ],
             [
              0.8888888888888888,
              "#fdca26"
             ],
             [
              1,
              "#f0f921"
             ]
            ],
            "type": "surface"
           }
          ],
          "table": [
           {
            "cells": {
             "fill": {
              "color": "#EBF0F8"
             },
             "line": {
              "color": "white"
             }
            },
            "header": {
             "fill": {
              "color": "#C8D4E3"
             },
             "line": {
              "color": "white"
             }
            },
            "type": "table"
           }
          ]
         },
         "layout": {
          "annotationdefaults": {
           "arrowcolor": "#2a3f5f",
           "arrowhead": 0,
           "arrowwidth": 1
          },
          "coloraxis": {
           "colorbar": {
            "outlinewidth": 0,
            "ticks": ""
           }
          },
          "colorscale": {
           "diverging": [
            [
             0,
             "#8e0152"
            ],
            [
             0.1,
             "#c51b7d"
            ],
            [
             0.2,
             "#de77ae"
            ],
            [
             0.3,
             "#f1b6da"
            ],
            [
             0.4,
             "#fde0ef"
            ],
            [
             0.5,
             "#f7f7f7"
            ],
            [
             0.6,
             "#e6f5d0"
            ],
            [
             0.7,
             "#b8e186"
            ],
            [
             0.8,
             "#7fbc41"
            ],
            [
             0.9,
             "#4d9221"
            ],
            [
             1,
             "#276419"
            ]
           ],
           "sequential": [
            [
             0,
             "#0d0887"
            ],
            [
             0.1111111111111111,
             "#46039f"
            ],
            [
             0.2222222222222222,
             "#7201a8"
            ],
            [
             0.3333333333333333,
             "#9c179e"
            ],
            [
             0.4444444444444444,
             "#bd3786"
            ],
            [
             0.5555555555555556,
             "#d8576b"
            ],
            [
             0.6666666666666666,
             "#ed7953"
            ],
            [
             0.7777777777777778,
             "#fb9f3a"
            ],
            [
             0.8888888888888888,
             "#fdca26"
            ],
            [
             1,
             "#f0f921"
            ]
           ],
           "sequentialminus": [
            [
             0,
             "#0d0887"
            ],
            [
             0.1111111111111111,
             "#46039f"
            ],
            [
             0.2222222222222222,
             "#7201a8"
            ],
            [
             0.3333333333333333,
             "#9c179e"
            ],
            [
             0.4444444444444444,
             "#bd3786"
            ],
            [
             0.5555555555555556,
             "#d8576b"
            ],
            [
             0.6666666666666666,
             "#ed7953"
            ],
            [
             0.7777777777777778,
             "#fb9f3a"
            ],
            [
             0.8888888888888888,
             "#fdca26"
            ],
            [
             1,
             "#f0f921"
            ]
           ]
          },
          "colorway": [
           "#636efa",
           "#EF553B",
           "#00cc96",
           "#ab63fa",
           "#FFA15A",
           "#19d3f3",
           "#FF6692",
           "#B6E880",
           "#FF97FF",
           "#FECB52"
          ],
          "font": {
           "color": "#2a3f5f"
          },
          "geo": {
           "bgcolor": "white",
           "lakecolor": "white",
           "landcolor": "#E5ECF6",
           "showlakes": true,
           "showland": true,
           "subunitcolor": "white"
          },
          "hoverlabel": {
           "align": "left"
          },
          "hovermode": "closest",
          "mapbox": {
           "style": "light"
          },
          "paper_bgcolor": "white",
          "plot_bgcolor": "#E5ECF6",
          "polar": {
           "angularaxis": {
            "gridcolor": "white",
            "linecolor": "white",
            "ticks": ""
           },
           "bgcolor": "#E5ECF6",
           "radialaxis": {
            "gridcolor": "white",
            "linecolor": "white",
            "ticks": ""
           }
          },
          "scene": {
           "xaxis": {
            "backgroundcolor": "#E5ECF6",
            "gridcolor": "white",
            "gridwidth": 2,
            "linecolor": "white",
            "showbackground": true,
            "ticks": "",
            "zerolinecolor": "white"
           },
           "yaxis": {
            "backgroundcolor": "#E5ECF6",
            "gridcolor": "white",
            "gridwidth": 2,
            "linecolor": "white",
            "showbackground": true,
            "ticks": "",
            "zerolinecolor": "white"
           },
           "zaxis": {
            "backgroundcolor": "#E5ECF6",
            "gridcolor": "white",
            "gridwidth": 2,
            "linecolor": "white",
            "showbackground": true,
            "ticks": "",
            "zerolinecolor": "white"
           }
          },
          "shapedefaults": {
           "line": {
            "color": "#2a3f5f"
           }
          },
          "ternary": {
           "aaxis": {
            "gridcolor": "white",
            "linecolor": "white",
            "ticks": ""
           },
           "baxis": {
            "gridcolor": "white",
            "linecolor": "white",
            "ticks": ""
           },
           "bgcolor": "#E5ECF6",
           "caxis": {
            "gridcolor": "white",
            "linecolor": "white",
            "ticks": ""
           }
          },
          "title": {
           "x": 0.05
          },
          "xaxis": {
           "automargin": true,
           "gridcolor": "white",
           "linecolor": "white",
           "ticks": "",
           "title": {
            "standoff": 15
           },
           "zerolinecolor": "white",
           "zerolinewidth": 2
          },
          "yaxis": {
           "automargin": true,
           "gridcolor": "white",
           "linecolor": "white",
           "ticks": "",
           "title": {
            "standoff": 15
           },
           "zerolinecolor": "white",
           "zerolinewidth": 2
          }
         }
        }
       }
      },
      "text/html": [
       "<div>\n",
       "        \n",
       "        \n",
       "            <div id=\"932f6c4d-ed2a-4c95-a52b-8ae0ec4d678f\" class=\"plotly-graph-div\" style=\"height:525px; width:100%;\"></div>\n",
       "            <script type=\"text/javascript\">\n",
       "                require([\"plotly\"], function(Plotly) {\n",
       "                    window.PLOTLYENV=window.PLOTLYENV || {};\n",
       "                    \n",
       "                if (document.getElementById(\"932f6c4d-ed2a-4c95-a52b-8ae0ec4d678f\")) {\n",
       "                    Plotly.newPlot(\n",
       "                        '932f6c4d-ed2a-4c95-a52b-8ae0ec4d678f',\n",
       "                        [{\"coloraxis\": \"coloraxis\", \"geo\": \"geo\", \"hovertemplate\": \"locations=%{location}<br>color=%{z}<extra></extra>\", \"locationmode\": \"USA-states\", \"locations\": [\"WV\", \"AK\", \"IL\", \"KS\", \"MD\", \"OH\", \"PA\", \"MO\", \"AR\", \"MS\", \"IA\", \"LA\", \"IN\", \"ND\", \"VA\", \"MI\", \"OK\", \"FL\", \"DE\", \"TX\", \"NE\", \"KY\", \"WI\", \"MN\", \"VT\", \"SC\", \"AL\", \"NV\", \"GA\", \"NM\", \"NJ\", \"CT\", \"WY\", \"SD\", \"ME\", \"NH\", \"AZ\", \"TN\", \"NC\", \"HI\", \"WA\", \"NY\", \"OR\", \"RI\", \"CO\", \"UT\", \"CA\", \"ID\", \"MA\", \"MT\"], \"name\": \"\", \"type\": \"choropleth\", \"z\": [0.0489, 0.0473, 0.0454, 0.0453, 0.0444, 0.0425, 0.0423, 0.0422, 0.0418, 0.0416, 0.041, 0.0408, 0.0407, 0.0403, 0.0401, 0.04, 0.0398, 0.0393, 0.0388, 0.0385, 0.0373, 0.0371, 0.0365, 0.0365, 0.0363, 0.0359, 0.0359, 0.0358, 0.0356, 0.0352, 0.0351, 0.0349, 0.0349, 0.0335, 0.0333, 0.0329, 0.0311, 0.031, 0.0309, 0.0297, 0.0287, 0.0282, 0.0278, 0.0277, 0.0273, 0.0246, 0.0245, 0.0242, 0.0237, 0.0235]}],\n",
       "                        {\"coloraxis\": {\"colorbar\": {\"title\": {\"text\": \"color\"}}, \"colorscale\": [[0.0, \"#0d0887\"], [0.1111111111111111, \"#46039f\"], [0.2222222222222222, \"#7201a8\"], [0.3333333333333333, \"#9c179e\"], [0.4444444444444444, \"#bd3786\"], [0.5555555555555556, \"#d8576b\"], [0.6666666666666666, \"#ed7953\"], [0.7777777777777778, \"#fb9f3a\"], [0.8888888888888888, \"#fdca26\"], [1.0, \"#f0f921\"]]}, \"geo\": {\"center\": {}, \"domain\": {\"x\": [0.0, 1.0], \"y\": [0.0, 1.0]}, \"scope\": \"usa\"}, \"legend\": {\"tracegroupgap\": 0}, \"margin\": {\"t\": 60}, \"template\": {\"data\": {\"bar\": [{\"error_x\": {\"color\": \"#2a3f5f\"}, \"error_y\": {\"color\": \"#2a3f5f\"}, \"marker\": {\"line\": {\"color\": \"#E5ECF6\", \"width\": 0.5}}, \"type\": \"bar\"}], \"barpolar\": [{\"marker\": {\"line\": {\"color\": \"#E5ECF6\", \"width\": 0.5}}, \"type\": \"barpolar\"}], \"carpet\": [{\"aaxis\": {\"endlinecolor\": \"#2a3f5f\", \"gridcolor\": \"white\", \"linecolor\": \"white\", \"minorgridcolor\": \"white\", \"startlinecolor\": \"#2a3f5f\"}, \"baxis\": {\"endlinecolor\": \"#2a3f5f\", \"gridcolor\": \"white\", \"linecolor\": \"white\", \"minorgridcolor\": \"white\", \"startlinecolor\": \"#2a3f5f\"}, \"type\": \"carpet\"}], \"choropleth\": [{\"colorbar\": {\"outlinewidth\": 0, \"ticks\": \"\"}, \"type\": \"choropleth\"}], \"contour\": [{\"colorbar\": {\"outlinewidth\": 0, \"ticks\": \"\"}, \"colorscale\": [[0.0, \"#0d0887\"], [0.1111111111111111, \"#46039f\"], [0.2222222222222222, \"#7201a8\"], [0.3333333333333333, \"#9c179e\"], [0.4444444444444444, \"#bd3786\"], [0.5555555555555556, \"#d8576b\"], [0.6666666666666666, \"#ed7953\"], [0.7777777777777778, \"#fb9f3a\"], [0.8888888888888888, \"#fdca26\"], [1.0, \"#f0f921\"]], \"type\": \"contour\"}], \"contourcarpet\": [{\"colorbar\": {\"outlinewidth\": 0, \"ticks\": \"\"}, \"type\": \"contourcarpet\"}], \"heatmap\": [{\"colorbar\": {\"outlinewidth\": 0, \"ticks\": \"\"}, \"colorscale\": [[0.0, \"#0d0887\"], [0.1111111111111111, \"#46039f\"], [0.2222222222222222, \"#7201a8\"], [0.3333333333333333, \"#9c179e\"], [0.4444444444444444, \"#bd3786\"], [0.5555555555555556, \"#d8576b\"], [0.6666666666666666, \"#ed7953\"], [0.7777777777777778, \"#fb9f3a\"], [0.8888888888888888, \"#fdca26\"], [1.0, \"#f0f921\"]], \"type\": \"heatmap\"}], \"heatmapgl\": [{\"colorbar\": {\"outlinewidth\": 0, \"ticks\": \"\"}, \"colorscale\": [[0.0, \"#0d0887\"], [0.1111111111111111, \"#46039f\"], [0.2222222222222222, \"#7201a8\"], [0.3333333333333333, \"#9c179e\"], [0.4444444444444444, \"#bd3786\"], [0.5555555555555556, \"#d8576b\"], [0.6666666666666666, \"#ed7953\"], [0.7777777777777778, \"#fb9f3a\"], [0.8888888888888888, \"#fdca26\"], [1.0, \"#f0f921\"]], \"type\": \"heatmapgl\"}], \"histogram\": [{\"marker\": {\"colorbar\": {\"outlinewidth\": 0, \"ticks\": \"\"}}, \"type\": \"histogram\"}], \"histogram2d\": [{\"colorbar\": {\"outlinewidth\": 0, \"ticks\": \"\"}, \"colorscale\": [[0.0, \"#0d0887\"], [0.1111111111111111, \"#46039f\"], [0.2222222222222222, \"#7201a8\"], [0.3333333333333333, \"#9c179e\"], [0.4444444444444444, \"#bd3786\"], [0.5555555555555556, \"#d8576b\"], [0.6666666666666666, \"#ed7953\"], [0.7777777777777778, \"#fb9f3a\"], [0.8888888888888888, \"#fdca26\"], [1.0, \"#f0f921\"]], \"type\": \"histogram2d\"}], \"histogram2dcontour\": [{\"colorbar\": {\"outlinewidth\": 0, \"ticks\": \"\"}, \"colorscale\": [[0.0, \"#0d0887\"], [0.1111111111111111, \"#46039f\"], [0.2222222222222222, \"#7201a8\"], [0.3333333333333333, \"#9c179e\"], [0.4444444444444444, \"#bd3786\"], [0.5555555555555556, \"#d8576b\"], [0.6666666666666666, \"#ed7953\"], [0.7777777777777778, \"#fb9f3a\"], [0.8888888888888888, \"#fdca26\"], [1.0, \"#f0f921\"]], \"type\": \"histogram2dcontour\"}], \"mesh3d\": [{\"colorbar\": {\"outlinewidth\": 0, \"ticks\": \"\"}, \"type\": \"mesh3d\"}], \"parcoords\": [{\"line\": {\"colorbar\": {\"outlinewidth\": 0, \"ticks\": \"\"}}, \"type\": \"parcoords\"}], \"pie\": [{\"automargin\": true, \"type\": \"pie\"}], \"scatter\": [{\"marker\": {\"colorbar\": {\"outlinewidth\": 0, \"ticks\": \"\"}}, \"type\": \"scatter\"}], \"scatter3d\": [{\"line\": {\"colorbar\": {\"outlinewidth\": 0, \"ticks\": \"\"}}, \"marker\": {\"colorbar\": {\"outlinewidth\": 0, \"ticks\": \"\"}}, \"type\": \"scatter3d\"}], \"scattercarpet\": [{\"marker\": {\"colorbar\": {\"outlinewidth\": 0, \"ticks\": \"\"}}, \"type\": \"scattercarpet\"}], \"scattergeo\": [{\"marker\": {\"colorbar\": {\"outlinewidth\": 0, \"ticks\": \"\"}}, \"type\": \"scattergeo\"}], \"scattergl\": [{\"marker\": {\"colorbar\": {\"outlinewidth\": 0, \"ticks\": \"\"}}, \"type\": \"scattergl\"}], \"scattermapbox\": [{\"marker\": {\"colorbar\": {\"outlinewidth\": 0, \"ticks\": \"\"}}, \"type\": \"scattermapbox\"}], \"scatterpolar\": [{\"marker\": {\"colorbar\": {\"outlinewidth\": 0, \"ticks\": \"\"}}, \"type\": \"scatterpolar\"}], \"scatterpolargl\": [{\"marker\": {\"colorbar\": {\"outlinewidth\": 0, \"ticks\": \"\"}}, \"type\": \"scatterpolargl\"}], \"scatterternary\": [{\"marker\": {\"colorbar\": {\"outlinewidth\": 0, \"ticks\": \"\"}}, \"type\": \"scatterternary\"}], \"surface\": [{\"colorbar\": {\"outlinewidth\": 0, \"ticks\": \"\"}, \"colorscale\": [[0.0, \"#0d0887\"], [0.1111111111111111, \"#46039f\"], [0.2222222222222222, \"#7201a8\"], [0.3333333333333333, \"#9c179e\"], [0.4444444444444444, \"#bd3786\"], [0.5555555555555556, \"#d8576b\"], [0.6666666666666666, \"#ed7953\"], [0.7777777777777778, \"#fb9f3a\"], [0.8888888888888888, \"#fdca26\"], [1.0, \"#f0f921\"]], \"type\": \"surface\"}], \"table\": [{\"cells\": {\"fill\": {\"color\": \"#EBF0F8\"}, \"line\": {\"color\": \"white\"}}, \"header\": {\"fill\": {\"color\": \"#C8D4E3\"}, \"line\": {\"color\": \"white\"}}, \"type\": \"table\"}]}, \"layout\": {\"annotationdefaults\": {\"arrowcolor\": \"#2a3f5f\", \"arrowhead\": 0, \"arrowwidth\": 1}, \"coloraxis\": {\"colorbar\": {\"outlinewidth\": 0, \"ticks\": \"\"}}, \"colorscale\": {\"diverging\": [[0, \"#8e0152\"], [0.1, \"#c51b7d\"], [0.2, \"#de77ae\"], [0.3, \"#f1b6da\"], [0.4, \"#fde0ef\"], [0.5, \"#f7f7f7\"], [0.6, \"#e6f5d0\"], [0.7, \"#b8e186\"], [0.8, \"#7fbc41\"], [0.9, \"#4d9221\"], [1, \"#276419\"]], \"sequential\": [[0.0, \"#0d0887\"], [0.1111111111111111, \"#46039f\"], [0.2222222222222222, \"#7201a8\"], [0.3333333333333333, \"#9c179e\"], [0.4444444444444444, \"#bd3786\"], [0.5555555555555556, \"#d8576b\"], [0.6666666666666666, \"#ed7953\"], [0.7777777777777778, \"#fb9f3a\"], [0.8888888888888888, \"#fdca26\"], [1.0, \"#f0f921\"]], \"sequentialminus\": [[0.0, \"#0d0887\"], [0.1111111111111111, \"#46039f\"], [0.2222222222222222, \"#7201a8\"], [0.3333333333333333, \"#9c179e\"], [0.4444444444444444, \"#bd3786\"], [0.5555555555555556, \"#d8576b\"], [0.6666666666666666, \"#ed7953\"], [0.7777777777777778, \"#fb9f3a\"], [0.8888888888888888, \"#fdca26\"], [1.0, \"#f0f921\"]]}, \"colorway\": [\"#636efa\", \"#EF553B\", \"#00cc96\", \"#ab63fa\", \"#FFA15A\", \"#19d3f3\", \"#FF6692\", \"#B6E880\", \"#FF97FF\", \"#FECB52\"], \"font\": {\"color\": \"#2a3f5f\"}, \"geo\": {\"bgcolor\": \"white\", \"lakecolor\": \"white\", \"landcolor\": \"#E5ECF6\", \"showlakes\": true, \"showland\": true, \"subunitcolor\": \"white\"}, \"hoverlabel\": {\"align\": \"left\"}, \"hovermode\": \"closest\", \"mapbox\": {\"style\": \"light\"}, \"paper_bgcolor\": \"white\", \"plot_bgcolor\": \"#E5ECF6\", \"polar\": {\"angularaxis\": {\"gridcolor\": \"white\", \"linecolor\": \"white\", \"ticks\": \"\"}, \"bgcolor\": \"#E5ECF6\", \"radialaxis\": {\"gridcolor\": \"white\", \"linecolor\": \"white\", \"ticks\": \"\"}}, \"scene\": {\"xaxis\": {\"backgroundcolor\": \"#E5ECF6\", \"gridcolor\": \"white\", \"gridwidth\": 2, \"linecolor\": \"white\", \"showbackground\": true, \"ticks\": \"\", \"zerolinecolor\": \"white\"}, \"yaxis\": {\"backgroundcolor\": \"#E5ECF6\", \"gridcolor\": \"white\", \"gridwidth\": 2, \"linecolor\": \"white\", \"showbackground\": true, \"ticks\": \"\", \"zerolinecolor\": \"white\"}, \"zaxis\": {\"backgroundcolor\": \"#E5ECF6\", \"gridcolor\": \"white\", \"gridwidth\": 2, \"linecolor\": \"white\", \"showbackground\": true, \"ticks\": \"\", \"zerolinecolor\": \"white\"}}, \"shapedefaults\": {\"line\": {\"color\": \"#2a3f5f\"}}, \"ternary\": {\"aaxis\": {\"gridcolor\": \"white\", \"linecolor\": \"white\", \"ticks\": \"\"}, \"baxis\": {\"gridcolor\": \"white\", \"linecolor\": \"white\", \"ticks\": \"\"}, \"bgcolor\": \"#E5ECF6\", \"caxis\": {\"gridcolor\": \"white\", \"linecolor\": \"white\", \"ticks\": \"\"}}, \"title\": {\"x\": 0.05}, \"xaxis\": {\"automargin\": true, \"gridcolor\": \"white\", \"linecolor\": \"white\", \"ticks\": \"\", \"title\": {\"standoff\": 15}, \"zerolinecolor\": \"white\", \"zerolinewidth\": 2}, \"yaxis\": {\"automargin\": true, \"gridcolor\": \"white\", \"linecolor\": \"white\", \"ticks\": \"\", \"title\": {\"standoff\": 15}, \"zerolinecolor\": \"white\", \"zerolinewidth\": 2}}}},\n",
       "                        {\"responsive\": true}\n",
       "                    ).then(function(){\n",
       "                            \n",
       "var gd = document.getElementById('932f6c4d-ed2a-4c95-a52b-8ae0ec4d678f');\n",
       "var x = new MutationObserver(function (mutations, observer) {{\n",
       "        var display = window.getComputedStyle(gd).display;\n",
       "        if (!display || display === 'none') {{\n",
       "            console.log([gd, 'removed!']);\n",
       "            Plotly.purge(gd);\n",
       "            observer.disconnect();\n",
       "        }}\n",
       "}});\n",
       "\n",
       "// Listen for the removal of the full notebook cells\n",
       "var notebookContainer = gd.closest('#notebook-container');\n",
       "if (notebookContainer) {{\n",
       "    x.observe(notebookContainer, {childList: true});\n",
       "}}\n",
       "\n",
       "// Listen for the clearing of the current output cell\n",
       "var outputEl = gd.closest('.output');\n",
       "if (outputEl) {{\n",
       "    x.observe(outputEl, {childList: true});\n",
       "}}\n",
       "\n",
       "                        })\n",
       "                };\n",
       "                });\n",
       "            </script>\n",
       "        </div>"
      ]
     },
     "metadata": {},
     "output_type": "display_data"
    },
    {
     "data": {
      "text/plain": [
       "<Figure size 432x288 with 0 Axes>"
      ]
     },
     "metadata": {},
     "output_type": "display_data"
    }
   ],
   "source": [
    "import plotly.express as px\n",
    "\n",
    "fig=px.choropleth(locations=compare_pd['Code'].str.upper(), locationmode='USA-states', color=compare_pd['Rent Index'], scope='usa')\n",
    "# fig = px.choropleth(locations=[\"CA\", \"TX\", \"NY\"], locationmode=\"USA-states\", color=[1,2,3], scope=\"usa\")\n",
    "fig.show()\n",
    "\n",
    "plt.savefig(\"state_map_rentindex.png\")\n"
   ]
  },
  {
   "cell_type": "code",
   "execution_count": 16,
   "metadata": {},
   "outputs": [
    {
     "data": {
      "text/plain": [
       "[{'type': 'choropleth',\n",
       "  'autoclorscale': False,\n",
       "  'location': 49    wv\n",
       "  24    ak\n",
       "  32    il\n",
       "  47    ks\n",
       "  15    md\n",
       "  45    oh\n",
       "  33    pa\n",
       "  43    mo\n",
       "  48    ar\n",
       "  46    ms\n",
       "  44    ia\n",
       "  38    la\n",
       "  42    in\n",
       "  39    nd\n",
       "  16    va\n",
       "  37    mi\n",
       "  41    ok\n",
       "  18    fl\n",
       "  19    de\n",
       "  25    tx\n",
       "  34    ne\n",
       "  40    ky\n",
       "  31    wi\n",
       "  26    mn\n",
       "  23    vt\n",
       "  29    sc\n",
       "  36    al\n",
       "  17    nv\n",
       "  21    ga\n",
       "  30    nm\n",
       "  8     nj\n",
       "  12    ct\n",
       "  28    wy\n",
       "  35    sd\n",
       "  27    me\n",
       "  13    nh\n",
       "  14    az\n",
       "  22    tn\n",
       "  20    nc\n",
       "  1     hi\n",
       "  5     wa\n",
       "  3     ny\n",
       "  7     or\n",
       "  9     ri\n",
       "  4     co\n",
       "  6     ut\n",
       "  0     ca\n",
       "  10    id\n",
       "  2     ma\n",
       "  11    mt\n",
       "  Name: Code, dtype: object,\n",
       "  'z': 49    0.0489\n",
       "  24    0.0473\n",
       "  32    0.0454\n",
       "  47    0.0453\n",
       "  15    0.0444\n",
       "  45    0.0425\n",
       "  33    0.0423\n",
       "  43    0.0422\n",
       "  48    0.0418\n",
       "  46    0.0416\n",
       "  44    0.0410\n",
       "  38    0.0408\n",
       "  42    0.0407\n",
       "  39    0.0403\n",
       "  16    0.0401\n",
       "  37    0.0400\n",
       "  41    0.0398\n",
       "  18    0.0393\n",
       "  19    0.0388\n",
       "  25    0.0385\n",
       "  34    0.0373\n",
       "  40    0.0371\n",
       "  31    0.0365\n",
       "  26    0.0365\n",
       "  23    0.0363\n",
       "  29    0.0359\n",
       "  36    0.0359\n",
       "  17    0.0358\n",
       "  21    0.0356\n",
       "  30    0.0352\n",
       "  8     0.0351\n",
       "  12    0.0349\n",
       "  28    0.0349\n",
       "  35    0.0335\n",
       "  27    0.0333\n",
       "  13    0.0329\n",
       "  14    0.0311\n",
       "  22    0.0310\n",
       "  20    0.0309\n",
       "  1     0.0297\n",
       "  5     0.0287\n",
       "  3     0.0282\n",
       "  7     0.0278\n",
       "  9     0.0277\n",
       "  4     0.0273\n",
       "  6     0.0246\n",
       "  0     0.0245\n",
       "  10    0.0242\n",
       "  2     0.0237\n",
       "  11    0.0235\n",
       "  Name: Rent Index, dtype: float64,\n",
       "  'locationmode': 'USA-states',\n",
       "  'text': 49     West Virginia\n",
       "  24            Alaska\n",
       "  32          Illinois\n",
       "  47            Kansas\n",
       "  15          Maryland\n",
       "  45              Ohio\n",
       "  33      Pennsylvania\n",
       "  43          Missouri\n",
       "  48          Arkansas\n",
       "  46       Mississippi\n",
       "  44              Iowa\n",
       "  38         Louisiana\n",
       "  42           Indiana\n",
       "  39      North Dakota\n",
       "  16          Virginia\n",
       "  37          Michigan\n",
       "  41          Oklahoma\n",
       "  18           Florida\n",
       "  19          Delaware\n",
       "  25             Texas\n",
       "  34          Nebraska\n",
       "  40          Kentucky\n",
       "  31         Wisconsin\n",
       "  26         Minnesota\n",
       "  23           Vermont\n",
       "  29    South Carolina\n",
       "  36           Alabama\n",
       "  17            Nevada\n",
       "  21           Georgia\n",
       "  30        New Mexico\n",
       "  8         New Jersey\n",
       "  12       Connecticut\n",
       "  28           Wyoming\n",
       "  35      South Dakota\n",
       "  27             Maine\n",
       "  13     New Hampshire\n",
       "  14           Arizona\n",
       "  22         Tennessee\n",
       "  20    North Carolina\n",
       "  1             Hawaii\n",
       "  5         Washington\n",
       "  3           New York\n",
       "  7             Oregon\n",
       "  9       Rhode Island\n",
       "  4           Colorado\n",
       "  6               Utah\n",
       "  0         California\n",
       "  10             Idaho\n",
       "  2      Massachusetts\n",
       "  11           Montana\n",
       "  Name: State, dtype: object,\n",
       "  'colorscale': [1.0, 'rgb(0, 0, 255)'],\n",
       "  'colorbar': {'title': 'Yearly Rent Income/Home Price'}}]"
      ]
     },
     "execution_count": 16,
     "metadata": {},
     "output_type": "execute_result"
    }
   ],
   "source": [
    "\n",
    "data = [dict(type='choropleth', autoclorscale = False, location = compare_pd[\"Code\"], z =compare_pd[\"Rent Index\"], \n",
    "             locationmode = 'USA-states', text = compare_pd[\"State\"], colorscale = [1.0, 'rgb(0, 0, 255)'], \n",
    "            colorbar = dict(title =\"Yearly Rent Income/Home Price\")) ]\n",
    "\n",
    "data\n"
   ]
  },
  {
   "cell_type": "code",
   "execution_count": 12,
   "metadata": {},
   "outputs": [
    {
     "data": {
      "text/plain": [
       "{'title': 'Rental Price vs. Home price',\n",
       " 'geo': {'scope': 'usa',\n",
       "  'projection': {'type': 'albers usa'},\n",
       "  'showlakes': True,\n",
       "  'lakecolor': 'rgb(66,165,245)'}}"
      ]
     },
     "execution_count": 12,
     "metadata": {},
     "output_type": "execute_result"
    }
   ],
   "source": [
    "layout = dict(title = \"Rental Price vs. Home price\", \n",
    "              geo = dict(scope='usa', projection = dict(type='albers usa'), showlakes = True,\n",
    "                        lakecolor = 'rgb(66,165,245)',),)\n",
    "\n",
    "layout"
   ]
  },
  {
   "cell_type": "code",
   "execution_count": 13,
   "metadata": {},
   "outputs": [
    {
     "ename": "ValueError",
     "evalue": "\n    Invalid value of type 'builtins.list' received for the 'colorscale' property of choropleth\n        Received value: [1.0, 'rgb(0, 0, 255)']\n\n    The 'colorscale' property is a colorscale and may be\n    specified as:\n      - A list of colors that will be spaced evenly to create the colorscale.\n        Many predefined colorscale lists are included in the sequential, diverging,\n        and cyclical modules in the plotly.colors package.\n      - A list of 2-element lists where the first element is the\n        normalized color level value (starting at 0 and ending at 1), \n        and the second item is a valid color string.\n        (e.g. [[0, 'green'], [0.5, 'red'], [1.0, 'rgb(0, 0, 255)']])\n      - One of the following named colorscales:\n            ['aggrnyl', 'agsunset', 'algae', 'amp', 'armyrose', 'balance',\n             'blackbody', 'bluered', 'blues', 'blugrn', 'bluyl', 'brbg',\n             'brwnyl', 'bugn', 'bupu', 'burg', 'burgyl', 'cividis', 'curl',\n             'darkmint', 'deep', 'delta', 'dense', 'earth', 'edge', 'electric',\n             'emrld', 'fall', 'geyser', 'gnbu', 'gray', 'greens', 'greys',\n             'haline', 'hot', 'hsv', 'ice', 'icefire', 'inferno', 'jet',\n             'magenta', 'magma', 'matter', 'mint', 'mrybm', 'mygbm', 'oranges',\n             'orrd', 'oryel', 'peach', 'phase', 'picnic', 'pinkyl', 'piyg',\n             'plasma', 'plotly3', 'portland', 'prgn', 'pubu', 'pubugn', 'puor',\n             'purd', 'purp', 'purples', 'purpor', 'rainbow', 'rdbu', 'rdgy',\n             'rdpu', 'rdylbu', 'rdylgn', 'redor', 'reds', 'solar', 'spectral',\n             'speed', 'sunset', 'sunsetdark', 'teal', 'tealgrn', 'tealrose',\n             'tempo', 'temps', 'thermal', 'tropic', 'turbid', 'twilight',\n             'viridis', 'ylgn', 'ylgnbu', 'ylorbr', 'ylorrd'].\n        Appending '_r' to a named colorscale reverses it.\n",
     "output_type": "error",
     "traceback": [
      "\u001b[1;31m---------------------------------------------------------------------------\u001b[0m",
      "\u001b[1;31mValueError\u001b[0m                                Traceback (most recent call last)",
      "\u001b[1;32m<ipython-input-13-4fe7449ad534>\u001b[0m in \u001b[0;36m<module>\u001b[1;34m\u001b[0m\n\u001b[0;32m      1\u001b[0m \u001b[0mfig\u001b[0m \u001b[1;33m=\u001b[0m \u001b[0mdict\u001b[0m\u001b[1;33m(\u001b[0m\u001b[0mdata\u001b[0m \u001b[1;33m=\u001b[0m \u001b[0mdata\u001b[0m\u001b[1;33m,\u001b[0m \u001b[0mlayout\u001b[0m \u001b[1;33m=\u001b[0m\u001b[0mlayout\u001b[0m\u001b[1;33m)\u001b[0m\u001b[1;33m\u001b[0m\u001b[1;33m\u001b[0m\u001b[0m\n\u001b[1;32m----> 2\u001b[1;33m \u001b[0mpy\u001b[0m\u001b[1;33m.\u001b[0m\u001b[0mplot\u001b[0m\u001b[1;33m(\u001b[0m\u001b[0mfig\u001b[0m\u001b[1;33m,\u001b[0m \u001b[0mfilename\u001b[0m \u001b[1;33m=\u001b[0m \u001b[1;34m'choropleth_map'\u001b[0m\u001b[1;33m)\u001b[0m\u001b[1;33m\u001b[0m\u001b[1;33m\u001b[0m\u001b[0m\n\u001b[0m",
      "\u001b[1;32m~\\anaconda3\\lib\\site-packages\\chart_studio\\plotly\\plotly.py\u001b[0m in \u001b[0;36mplot\u001b[1;34m(figure_or_data, validate, **plot_options)\u001b[0m\n\u001b[0;32m    195\u001b[0m     \u001b[1;32mimport\u001b[0m \u001b[0mplotly\u001b[0m\u001b[1;33m.\u001b[0m\u001b[0mtools\u001b[0m\u001b[1;33m\u001b[0m\u001b[1;33m\u001b[0m\u001b[0m\n\u001b[0;32m    196\u001b[0m \u001b[1;33m\u001b[0m\u001b[0m\n\u001b[1;32m--> 197\u001b[1;33m     \u001b[0mfigure\u001b[0m \u001b[1;33m=\u001b[0m \u001b[0mplotly\u001b[0m\u001b[1;33m.\u001b[0m\u001b[0mtools\u001b[0m\u001b[1;33m.\u001b[0m\u001b[0mreturn_figure_from_figure_or_data\u001b[0m\u001b[1;33m(\u001b[0m\u001b[0mfigure_or_data\u001b[0m\u001b[1;33m,\u001b[0m \u001b[0mvalidate\u001b[0m\u001b[1;33m)\u001b[0m\u001b[1;33m\u001b[0m\u001b[1;33m\u001b[0m\u001b[0m\n\u001b[0m\u001b[0;32m    198\u001b[0m     \u001b[1;32mfor\u001b[0m \u001b[0mentry\u001b[0m \u001b[1;32min\u001b[0m \u001b[0mfigure\u001b[0m\u001b[1;33m[\u001b[0m\u001b[1;34m\"data\"\u001b[0m\u001b[1;33m]\u001b[0m\u001b[1;33m:\u001b[0m\u001b[1;33m\u001b[0m\u001b[1;33m\u001b[0m\u001b[0m\n\u001b[0;32m    199\u001b[0m         \u001b[1;32mif\u001b[0m \u001b[1;33m(\u001b[0m\u001b[1;34m\"type\"\u001b[0m \u001b[1;32min\u001b[0m \u001b[0mentry\u001b[0m\u001b[1;33m)\u001b[0m \u001b[1;32mand\u001b[0m \u001b[1;33m(\u001b[0m\u001b[0mentry\u001b[0m\u001b[1;33m[\u001b[0m\u001b[1;34m\"type\"\u001b[0m\u001b[1;33m]\u001b[0m \u001b[1;33m==\u001b[0m \u001b[1;34m\"scattergl\"\u001b[0m\u001b[1;33m)\u001b[0m\u001b[1;33m:\u001b[0m\u001b[1;33m\u001b[0m\u001b[1;33m\u001b[0m\u001b[0m\n",
      "\u001b[1;32m~\\anaconda3\\lib\\site-packages\\plotly\\tools.py\u001b[0m in \u001b[0;36mreturn_figure_from_figure_or_data\u001b[1;34m(figure_or_data, validate_figure)\u001b[0m\n\u001b[0;32m    551\u001b[0m \u001b[1;33m\u001b[0m\u001b[0m\n\u001b[0;32m    552\u001b[0m         \u001b[1;32mtry\u001b[0m\u001b[1;33m:\u001b[0m\u001b[1;33m\u001b[0m\u001b[1;33m\u001b[0m\u001b[0m\n\u001b[1;32m--> 553\u001b[1;33m             \u001b[0mfigure\u001b[0m \u001b[1;33m=\u001b[0m \u001b[0mFigure\u001b[0m\u001b[1;33m(\u001b[0m\u001b[1;33m**\u001b[0m\u001b[0mfigure\u001b[0m\u001b[1;33m)\u001b[0m\u001b[1;33m.\u001b[0m\u001b[0mto_dict\u001b[0m\u001b[1;33m(\u001b[0m\u001b[1;33m)\u001b[0m\u001b[1;33m\u001b[0m\u001b[1;33m\u001b[0m\u001b[0m\n\u001b[0m\u001b[0;32m    554\u001b[0m         \u001b[1;32mexcept\u001b[0m \u001b[0mexceptions\u001b[0m\u001b[1;33m.\u001b[0m\u001b[0mPlotlyError\u001b[0m \u001b[1;32mas\u001b[0m \u001b[0merr\u001b[0m\u001b[1;33m:\u001b[0m\u001b[1;33m\u001b[0m\u001b[1;33m\u001b[0m\u001b[0m\n\u001b[0;32m    555\u001b[0m             raise exceptions.PlotlyError(\n",
      "\u001b[1;32m~\\anaconda3\\lib\\site-packages\\plotly\\graph_objs\\_figure.py\u001b[0m in \u001b[0;36m__init__\u001b[1;34m(self, data, layout, frames, skip_invalid, **kwargs)\u001b[0m\n\u001b[0;32m    582\u001b[0m             \u001b[1;32mis\u001b[0m \u001b[0minvalid\u001b[0m \u001b[0mAND\u001b[0m \u001b[0mskip_invalid\u001b[0m \u001b[1;32mis\u001b[0m \u001b[1;32mFalse\u001b[0m\u001b[1;33m\u001b[0m\u001b[1;33m\u001b[0m\u001b[0m\n\u001b[0;32m    583\u001b[0m         \"\"\"\n\u001b[1;32m--> 584\u001b[1;33m         \u001b[0msuper\u001b[0m\u001b[1;33m(\u001b[0m\u001b[0mFigure\u001b[0m\u001b[1;33m,\u001b[0m \u001b[0mself\u001b[0m\u001b[1;33m)\u001b[0m\u001b[1;33m.\u001b[0m\u001b[0m__init__\u001b[0m\u001b[1;33m(\u001b[0m\u001b[0mdata\u001b[0m\u001b[1;33m,\u001b[0m \u001b[0mlayout\u001b[0m\u001b[1;33m,\u001b[0m \u001b[0mframes\u001b[0m\u001b[1;33m,\u001b[0m \u001b[0mskip_invalid\u001b[0m\u001b[1;33m,\u001b[0m \u001b[1;33m**\u001b[0m\u001b[0mkwargs\u001b[0m\u001b[1;33m)\u001b[0m\u001b[1;33m\u001b[0m\u001b[1;33m\u001b[0m\u001b[0m\n\u001b[0m\u001b[0;32m    585\u001b[0m \u001b[1;33m\u001b[0m\u001b[0m\n\u001b[0;32m    586\u001b[0m     def add_area(\n",
      "\u001b[1;32m~\\anaconda3\\lib\\site-packages\\plotly\\basedatatypes.py\u001b[0m in \u001b[0;36m__init__\u001b[1;34m(self, data, layout_plotly, frames, skip_invalid, **kwargs)\u001b[0m\n\u001b[0;32m    145\u001b[0m         \u001b[1;31m# ### Import traces ###\u001b[0m\u001b[1;33m\u001b[0m\u001b[1;33m\u001b[0m\u001b[1;33m\u001b[0m\u001b[0m\n\u001b[0;32m    146\u001b[0m         data = self._data_validator.validate_coerce(\n\u001b[1;32m--> 147\u001b[1;33m             \u001b[0mdata\u001b[0m\u001b[1;33m,\u001b[0m \u001b[0mskip_invalid\u001b[0m\u001b[1;33m=\u001b[0m\u001b[0mskip_invalid\u001b[0m\u001b[1;33m,\u001b[0m \u001b[0m_validate\u001b[0m\u001b[1;33m=\u001b[0m\u001b[0mself\u001b[0m\u001b[1;33m.\u001b[0m\u001b[0m_validate\u001b[0m\u001b[1;33m\u001b[0m\u001b[1;33m\u001b[0m\u001b[0m\n\u001b[0m\u001b[0;32m    148\u001b[0m         )\n\u001b[0;32m    149\u001b[0m \u001b[1;33m\u001b[0m\u001b[0m\n",
      "\u001b[1;32m~\\anaconda3\\lib\\site-packages\\_plotly_utils\\basevalidators.py\u001b[0m in \u001b[0;36mvalidate_coerce\u001b[1;34m(self, v, skip_invalid, _validate)\u001b[0m\n\u001b[0;32m   2658\u001b[0m                     \u001b[1;32melse\u001b[0m\u001b[1;33m:\u001b[0m\u001b[1;33m\u001b[0m\u001b[1;33m\u001b[0m\u001b[0m\n\u001b[0;32m   2659\u001b[0m                         trace = self.get_trace_class(trace_type)(\n\u001b[1;32m-> 2660\u001b[1;33m                             \u001b[0mskip_invalid\u001b[0m\u001b[1;33m=\u001b[0m\u001b[0mskip_invalid\u001b[0m\u001b[1;33m,\u001b[0m \u001b[0m_validate\u001b[0m\u001b[1;33m=\u001b[0m\u001b[0m_validate\u001b[0m\u001b[1;33m,\u001b[0m \u001b[1;33m**\u001b[0m\u001b[0mv_copy\u001b[0m\u001b[1;33m\u001b[0m\u001b[1;33m\u001b[0m\u001b[0m\n\u001b[0m\u001b[0;32m   2661\u001b[0m                         )\n\u001b[0;32m   2662\u001b[0m                         \u001b[0mres\u001b[0m\u001b[1;33m.\u001b[0m\u001b[0mappend\u001b[0m\u001b[1;33m(\u001b[0m\u001b[0mtrace\u001b[0m\u001b[1;33m)\u001b[0m\u001b[1;33m\u001b[0m\u001b[1;33m\u001b[0m\u001b[0m\n",
      "\u001b[1;32m~\\anaconda3\\lib\\site-packages\\plotly\\graph_objs\\_choropleth.py\u001b[0m in \u001b[0;36m__init__\u001b[1;34m(self, arg, autocolorscale, coloraxis, colorbar, colorscale, customdata, customdatasrc, featureidkey, geo, geojson, hoverinfo, hoverinfosrc, hoverlabel, hovertemplate, hovertemplatesrc, hovertext, hovertextsrc, ids, idssrc, legendgroup, locationmode, locations, locationssrc, marker, meta, metasrc, name, reversescale, selected, selectedpoints, showlegend, showscale, stream, text, textsrc, uid, uirevision, unselected, visible, z, zauto, zmax, zmid, zmin, zsrc, **kwargs)\u001b[0m\n\u001b[0;32m   1953\u001b[0m         \u001b[0m_v\u001b[0m \u001b[1;33m=\u001b[0m \u001b[0mcolorscale\u001b[0m \u001b[1;32mif\u001b[0m \u001b[0mcolorscale\u001b[0m \u001b[1;32mis\u001b[0m \u001b[1;32mnot\u001b[0m \u001b[1;32mNone\u001b[0m \u001b[1;32melse\u001b[0m \u001b[0m_v\u001b[0m\u001b[1;33m\u001b[0m\u001b[1;33m\u001b[0m\u001b[0m\n\u001b[0;32m   1954\u001b[0m         \u001b[1;32mif\u001b[0m \u001b[0m_v\u001b[0m \u001b[1;32mis\u001b[0m \u001b[1;32mnot\u001b[0m \u001b[1;32mNone\u001b[0m\u001b[1;33m:\u001b[0m\u001b[1;33m\u001b[0m\u001b[1;33m\u001b[0m\u001b[0m\n\u001b[1;32m-> 1955\u001b[1;33m             \u001b[0mself\u001b[0m\u001b[1;33m[\u001b[0m\u001b[1;34m\"colorscale\"\u001b[0m\u001b[1;33m]\u001b[0m \u001b[1;33m=\u001b[0m \u001b[0m_v\u001b[0m\u001b[1;33m\u001b[0m\u001b[1;33m\u001b[0m\u001b[0m\n\u001b[0m\u001b[0;32m   1956\u001b[0m         \u001b[0m_v\u001b[0m \u001b[1;33m=\u001b[0m \u001b[0marg\u001b[0m\u001b[1;33m.\u001b[0m\u001b[0mpop\u001b[0m\u001b[1;33m(\u001b[0m\u001b[1;34m\"customdata\"\u001b[0m\u001b[1;33m,\u001b[0m \u001b[1;32mNone\u001b[0m\u001b[1;33m)\u001b[0m\u001b[1;33m\u001b[0m\u001b[1;33m\u001b[0m\u001b[0m\n\u001b[0;32m   1957\u001b[0m         \u001b[0m_v\u001b[0m \u001b[1;33m=\u001b[0m \u001b[0mcustomdata\u001b[0m \u001b[1;32mif\u001b[0m \u001b[0mcustomdata\u001b[0m \u001b[1;32mis\u001b[0m \u001b[1;32mnot\u001b[0m \u001b[1;32mNone\u001b[0m \u001b[1;32melse\u001b[0m \u001b[0m_v\u001b[0m\u001b[1;33m\u001b[0m\u001b[1;33m\u001b[0m\u001b[0m\n",
      "\u001b[1;32m~\\anaconda3\\lib\\site-packages\\plotly\\basedatatypes.py\u001b[0m in \u001b[0;36m__setitem__\u001b[1;34m(self, prop, value)\u001b[0m\n\u001b[0;32m   3988\u001b[0m                 \u001b[1;31m# ### Handle simple property ###\u001b[0m\u001b[1;33m\u001b[0m\u001b[1;33m\u001b[0m\u001b[1;33m\u001b[0m\u001b[0m\n\u001b[0;32m   3989\u001b[0m                 \u001b[1;32melse\u001b[0m\u001b[1;33m:\u001b[0m\u001b[1;33m\u001b[0m\u001b[1;33m\u001b[0m\u001b[0m\n\u001b[1;32m-> 3990\u001b[1;33m                     \u001b[0mself\u001b[0m\u001b[1;33m.\u001b[0m\u001b[0m_set_prop\u001b[0m\u001b[1;33m(\u001b[0m\u001b[0mprop\u001b[0m\u001b[1;33m,\u001b[0m \u001b[0mvalue\u001b[0m\u001b[1;33m)\u001b[0m\u001b[1;33m\u001b[0m\u001b[1;33m\u001b[0m\u001b[0m\n\u001b[0m\u001b[0;32m   3991\u001b[0m             \u001b[1;32melse\u001b[0m\u001b[1;33m:\u001b[0m\u001b[1;33m\u001b[0m\u001b[1;33m\u001b[0m\u001b[0m\n\u001b[0;32m   3992\u001b[0m                 \u001b[1;31m# Make sure properties dict is initialized\u001b[0m\u001b[1;33m\u001b[0m\u001b[1;33m\u001b[0m\u001b[1;33m\u001b[0m\u001b[0m\n",
      "\u001b[1;32m~\\anaconda3\\lib\\site-packages\\plotly\\basedatatypes.py\u001b[0m in \u001b[0;36m_set_prop\u001b[1;34m(self, prop, val)\u001b[0m\n\u001b[0;32m   4306\u001b[0m                 \u001b[1;32mreturn\u001b[0m\u001b[1;33m\u001b[0m\u001b[1;33m\u001b[0m\u001b[0m\n\u001b[0;32m   4307\u001b[0m             \u001b[1;32melse\u001b[0m\u001b[1;33m:\u001b[0m\u001b[1;33m\u001b[0m\u001b[1;33m\u001b[0m\u001b[0m\n\u001b[1;32m-> 4308\u001b[1;33m                 \u001b[1;32mraise\u001b[0m \u001b[0merr\u001b[0m\u001b[1;33m\u001b[0m\u001b[1;33m\u001b[0m\u001b[0m\n\u001b[0m\u001b[0;32m   4309\u001b[0m \u001b[1;33m\u001b[0m\u001b[0m\n\u001b[0;32m   4310\u001b[0m         \u001b[1;31m# val is None\u001b[0m\u001b[1;33m\u001b[0m\u001b[1;33m\u001b[0m\u001b[1;33m\u001b[0m\u001b[0m\n",
      "\u001b[1;32m~\\anaconda3\\lib\\site-packages\\plotly\\basedatatypes.py\u001b[0m in \u001b[0;36m_set_prop\u001b[1;34m(self, prop, val)\u001b[0m\n\u001b[0;32m   4301\u001b[0m \u001b[1;33m\u001b[0m\u001b[0m\n\u001b[0;32m   4302\u001b[0m         \u001b[1;32mtry\u001b[0m\u001b[1;33m:\u001b[0m\u001b[1;33m\u001b[0m\u001b[1;33m\u001b[0m\u001b[0m\n\u001b[1;32m-> 4303\u001b[1;33m             \u001b[0mval\u001b[0m \u001b[1;33m=\u001b[0m \u001b[0mvalidator\u001b[0m\u001b[1;33m.\u001b[0m\u001b[0mvalidate_coerce\u001b[0m\u001b[1;33m(\u001b[0m\u001b[0mval\u001b[0m\u001b[1;33m)\u001b[0m\u001b[1;33m\u001b[0m\u001b[1;33m\u001b[0m\u001b[0m\n\u001b[0m\u001b[0;32m   4304\u001b[0m         \u001b[1;32mexcept\u001b[0m \u001b[0mValueError\u001b[0m \u001b[1;32mas\u001b[0m \u001b[0merr\u001b[0m\u001b[1;33m:\u001b[0m\u001b[1;33m\u001b[0m\u001b[1;33m\u001b[0m\u001b[0m\n\u001b[0;32m   4305\u001b[0m             \u001b[1;32mif\u001b[0m \u001b[0mself\u001b[0m\u001b[1;33m.\u001b[0m\u001b[0m_skip_invalid\u001b[0m\u001b[1;33m:\u001b[0m\u001b[1;33m\u001b[0m\u001b[1;33m\u001b[0m\u001b[0m\n",
      "\u001b[1;32m~\\anaconda3\\lib\\site-packages\\_plotly_utils\\basevalidators.py\u001b[0m in \u001b[0;36mvalidate_coerce\u001b[1;34m(self, v)\u001b[0m\n\u001b[0;32m   1627\u001b[0m \u001b[1;33m\u001b[0m\u001b[0m\n\u001b[0;32m   1628\u001b[0m         \u001b[1;32mif\u001b[0m \u001b[1;32mnot\u001b[0m \u001b[0mv_valid\u001b[0m\u001b[1;33m:\u001b[0m\u001b[1;33m\u001b[0m\u001b[1;33m\u001b[0m\u001b[0m\n\u001b[1;32m-> 1629\u001b[1;33m             \u001b[0mself\u001b[0m\u001b[1;33m.\u001b[0m\u001b[0mraise_invalid_val\u001b[0m\u001b[1;33m(\u001b[0m\u001b[0mv\u001b[0m\u001b[1;33m)\u001b[0m\u001b[1;33m\u001b[0m\u001b[1;33m\u001b[0m\u001b[0m\n\u001b[0m\u001b[0;32m   1630\u001b[0m \u001b[1;33m\u001b[0m\u001b[0m\n\u001b[0;32m   1631\u001b[0m         \u001b[1;32mreturn\u001b[0m \u001b[0mv\u001b[0m\u001b[1;33m\u001b[0m\u001b[1;33m\u001b[0m\u001b[0m\n",
      "\u001b[1;32m~\\anaconda3\\lib\\site-packages\\_plotly_utils\\basevalidators.py\u001b[0m in \u001b[0;36mraise_invalid_val\u001b[1;34m(self, v, inds)\u001b[0m\n\u001b[0;32m    283\u001b[0m                 \u001b[0mtyp\u001b[0m\u001b[1;33m=\u001b[0m\u001b[0mtype_str\u001b[0m\u001b[1;33m(\u001b[0m\u001b[0mv\u001b[0m\u001b[1;33m)\u001b[0m\u001b[1;33m,\u001b[0m\u001b[1;33m\u001b[0m\u001b[1;33m\u001b[0m\u001b[0m\n\u001b[0;32m    284\u001b[0m                 \u001b[0mv\u001b[0m\u001b[1;33m=\u001b[0m\u001b[0mrepr\u001b[0m\u001b[1;33m(\u001b[0m\u001b[0mv\u001b[0m\u001b[1;33m)\u001b[0m\u001b[1;33m,\u001b[0m\u001b[1;33m\u001b[0m\u001b[1;33m\u001b[0m\u001b[0m\n\u001b[1;32m--> 285\u001b[1;33m                 \u001b[0mvalid_clr_desc\u001b[0m\u001b[1;33m=\u001b[0m\u001b[0mself\u001b[0m\u001b[1;33m.\u001b[0m\u001b[0mdescription\u001b[0m\u001b[1;33m(\u001b[0m\u001b[1;33m)\u001b[0m\u001b[1;33m,\u001b[0m\u001b[1;33m\u001b[0m\u001b[1;33m\u001b[0m\u001b[0m\n\u001b[0m\u001b[0;32m    286\u001b[0m             )\n\u001b[0;32m    287\u001b[0m         )\n",
      "\u001b[1;31mValueError\u001b[0m: \n    Invalid value of type 'builtins.list' received for the 'colorscale' property of choropleth\n        Received value: [1.0, 'rgb(0, 0, 255)']\n\n    The 'colorscale' property is a colorscale and may be\n    specified as:\n      - A list of colors that will be spaced evenly to create the colorscale.\n        Many predefined colorscale lists are included in the sequential, diverging,\n        and cyclical modules in the plotly.colors package.\n      - A list of 2-element lists where the first element is the\n        normalized color level value (starting at 0 and ending at 1), \n        and the second item is a valid color string.\n        (e.g. [[0, 'green'], [0.5, 'red'], [1.0, 'rgb(0, 0, 255)']])\n      - One of the following named colorscales:\n            ['aggrnyl', 'agsunset', 'algae', 'amp', 'armyrose', 'balance',\n             'blackbody', 'bluered', 'blues', 'blugrn', 'bluyl', 'brbg',\n             'brwnyl', 'bugn', 'bupu', 'burg', 'burgyl', 'cividis', 'curl',\n             'darkmint', 'deep', 'delta', 'dense', 'earth', 'edge', 'electric',\n             'emrld', 'fall', 'geyser', 'gnbu', 'gray', 'greens', 'greys',\n             'haline', 'hot', 'hsv', 'ice', 'icefire', 'inferno', 'jet',\n             'magenta', 'magma', 'matter', 'mint', 'mrybm', 'mygbm', 'oranges',\n             'orrd', 'oryel', 'peach', 'phase', 'picnic', 'pinkyl', 'piyg',\n             'plasma', 'plotly3', 'portland', 'prgn', 'pubu', 'pubugn', 'puor',\n             'purd', 'purp', 'purples', 'purpor', 'rainbow', 'rdbu', 'rdgy',\n             'rdpu', 'rdylbu', 'rdylgn', 'redor', 'reds', 'solar', 'spectral',\n             'speed', 'sunset', 'sunsetdark', 'teal', 'tealgrn', 'tealrose',\n             'tempo', 'temps', 'thermal', 'tropic', 'turbid', 'twilight',\n             'viridis', 'ylgn', 'ylgnbu', 'ylorbr', 'ylorrd'].\n        Appending '_r' to a named colorscale reverses it.\n"
     ]
    }
   ],
   "source": [
    "fig = dict(data = data, layout =layout)\n",
    "py.plot(fig, filename = 'choropleth_map')"
   ]
  },
  {
   "cell_type": "code",
   "execution_count": null,
   "metadata": {},
   "outputs": [],
   "source": []
  },
  {
   "cell_type": "code",
   "execution_count": null,
   "metadata": {},
   "outputs": [],
   "source": []
  }
 ],
 "metadata": {
  "kernelspec": {
   "display_name": "Python 3",
   "language": "python",
   "name": "python3"
  },
  "language_info": {
   "codemirror_mode": {
    "name": "ipython",
    "version": 3
   },
   "file_extension": ".py",
   "mimetype": "text/x-python",
   "name": "python",
   "nbconvert_exporter": "python",
   "pygments_lexer": "ipython3",
   "version": "3.7.6"
  }
 },
 "nbformat": 4,
 "nbformat_minor": 4
}
