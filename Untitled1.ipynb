{
 "cells": [
  {
   "cell_type": "code",
   "execution_count": 4,
   "metadata": {},
   "outputs": [
    {
     "name": "stdout",
     "output_type": "stream",
     "text": [
      "{'id': '29611', 'rentalData': {'averageRent': 992.64, 'minRent': 595, 'maxRent': 2500, 'totalRentals': 66, 'detailed': [{'bedrooms': 0, 'averageRent': 878.6, 'minRent': 635, 'maxRent': 1305, 'totalRentals': 5}, {'bedrooms': 1, 'averageRent': 722.5, 'minRent': 595, 'maxRent': 1265, 'totalRentals': 6}, {'bedrooms': 2, 'averageRent': 951.36, 'minRent': 695, 'maxRent': 1495, 'totalRentals': 22}, {'bedrooms': 3, 'averageRent': 1249.75, 'minRent': 770, 'maxRent': 2500, 'totalRentals': 28}, {'bedrooms': 4, 'averageRent': 1161, 'minRent': 995, 'maxRent': 1320, 'totalRentals': 5}], 'history': {'2020-04': {'averageRent': 965.26, 'minRent': 595, 'maxRent': 2500, 'totalRentals': 70, 'detailed': [{'bedrooms': 0, 'averageRent': 878.6, 'minRent': 635, 'maxRent': 1305, 'totalRentals': 5}, {'bedrooms': 1, 'averageRent': 728.75, 'minRent': 595, 'maxRent': 1345, 'totalRentals': 8}, {'bedrooms': 2, 'averageRent': 905.63, 'minRent': 695, 'maxRent': 1200, 'totalRentals': 30}, {'bedrooms': 3, 'averageRent': 1186.32, 'minRent': 750, 'maxRent': 2500, 'totalRentals': 22}, {'bedrooms': 4, 'averageRent': 1127, 'minRent': 975, 'maxRent': 1295, 'totalRentals': 5}]}, '2020-05': {'averageRent': 967.55, 'minRent': 595, 'maxRent': 2500, 'totalRentals': 71, 'detailed': [{'bedrooms': 0, 'averageRent': 878.6, 'minRent': 635, 'maxRent': 1305, 'totalRentals': 5}, {'bedrooms': 1, 'averageRent': 716.25, 'minRent': 595, 'maxRent': 1345, 'totalRentals': 8}, {'bedrooms': 2, 'averageRent': 915.14, 'minRent': 695, 'maxRent': 1175, 'totalRentals': 29}, {'bedrooms': 3, 'averageRent': 1212.76, 'minRent': 750, 'maxRent': 2500, 'totalRentals': 25}, {'bedrooms': 4, 'averageRent': 1115, 'minRent': 975, 'maxRent': 1295, 'totalRentals': 4}]}, '2020-06': {'averageRent': 990.83, 'minRent': 595, 'maxRent': 2500, 'totalRentals': 70, 'detailed': [{'bedrooms': 0, 'averageRent': 878.6, 'minRent': 635, 'maxRent': 1305, 'totalRentals': 5}, {'bedrooms': 1, 'averageRent': 712.14, 'minRent': 595, 'maxRent': 1265, 'totalRentals': 7}, {'bedrooms': 2, 'averageRent': 940.32, 'minRent': 695, 'maxRent': 1495, 'totalRentals': 28}, {'bedrooms': 3, 'averageRent': 1221.85, 'minRent': 770, 'maxRent': 2500, 'totalRentals': 26}, {'bedrooms': 4, 'averageRent': 1201.25, 'minRent': 995, 'maxRent': 1320, 'totalRentals': 4}]}, '2020-07': {'averageRent': 992.64, 'minRent': 595, 'maxRent': 2500, 'totalRentals': 66, 'detailed': [{'bedrooms': 0, 'averageRent': 878.6, 'minRent': 635, 'maxRent': 1305, 'totalRentals': 5}, {'bedrooms': 1, 'averageRent': 722.5, 'minRent': 595, 'maxRent': 1265, 'totalRentals': 6}, {'bedrooms': 2, 'averageRent': 951.36, 'minRent': 695, 'maxRent': 1495, 'totalRentals': 22}, {'bedrooms': 3, 'averageRent': 1249.75, 'minRent': 770, 'maxRent': 2500, 'totalRentals': 28}, {'bedrooms': 4, 'averageRent': 1161, 'minRent': 995, 'maxRent': 1320, 'totalRentals': 5}]}}}}\n"
     ]
    }
   ],
   "source": [
    "import requests\n",
    "\n",
    "url = \"https://realty-mole-property-api.p.rapidapi.com/zipCodes/29611\"\n",
    "\n",
    "headers = {\n",
    "    'x-rapidapi-host': \"realty-mole-property-api.p.rapidapi.com\",\n",
    "    'x-rapidapi-key': \"9bf1c65e0fmsh39efdd5cc4f3d3fp15f361jsn585706dcd8ee\"\n",
    "    }\n",
    "\n",
    "response = requests.request(\"GET\", url, headers=headers).json()\n",
    "\n",
    "print(response)"
   ]
  },
  {
   "cell_type": "code",
   "execution_count": null,
   "metadata": {},
   "outputs": [],
   "source": [
    "zip1=pd.write_csv(response)"
   ]
  }
 ],
 "metadata": {
  "kernelspec": {
   "display_name": "Python 3",
   "language": "python",
   "name": "python3"
  },
  "language_info": {
   "codemirror_mode": {
    "name": "ipython",
    "version": 3
   },
   "file_extension": ".py",
   "mimetype": "text/x-python",
   "name": "python",
   "nbconvert_exporter": "python",
   "pygments_lexer": "ipython3",
   "version": "3.7.6"
  }
 },
 "nbformat": 4,
 "nbformat_minor": 4
}
